{
 "cells": [
  {
   "cell_type": "markdown",
   "metadata": {},
   "source": [
    "### Make equations look bigger"
   ]
  },
  {
   "cell_type": "code",
   "execution_count": 3,
   "metadata": {},
   "outputs": [
    {
     "data": {
      "text/html": [
       "\n",
       "<style>\n",
       ".MathJax {\n",
       "font-size: 1.3em;\n",
       "}\n",
       "</style>\n"
      ],
      "text/plain": [
       "<IPython.core.display.HTML object>"
      ]
     },
     "execution_count": 3,
     "metadata": {},
     "output_type": "execute_result"
    }
   ],
   "source": [
    "from IPython.core.display import HTML\n",
    "HTML(\"\"\"\n",
    "<style>\n",
    ".MathJax {\n",
    "font-size: 1.3em;\n",
    "}\n",
    "</style>\n",
    "\"\"\")"
   ]
  },
  {
   "cell_type": "markdown",
   "metadata": {},
   "source": [
    "# Part 0: Imports"
   ]
  },
  {
   "cell_type": "markdown",
   "metadata": {},
   "source": [
    "### Mandatory imports"
   ]
  },
  {
   "cell_type": "code",
   "execution_count": 5,
   "metadata": {},
   "outputs": [],
   "source": [
    "from math import sqrt, log\n",
    "import random"
   ]
  },
  {
   "cell_type": "markdown",
   "metadata": {},
   "source": [
    "Implementing the vanilla version of Monte Carlo Tree Search does not require any fancy library (not even NumPy!). We will only require two built in packages:\n",
    "+ `math` package to calculate square roots and logarithms, necessary operations for the UCB1 formula used in the Selection phase of MCTS.\n",
    "+ `random` package to sample uniformly for both sampling a random new child to expand in the Expansion phase, and for sampling random actions in the Rollout phase."
   ]
  },
  {
   "cell_type": "markdown",
   "metadata": {},
   "source": [
    "### Fashion imports"
   ]
  },
  {
   "cell_type": "code",
   "execution_count": 6,
   "metadata": {},
   "outputs": [],
   "source": [
    "import colorama     # Pretty colours :3\n",
    "from colorama import Fore"
   ]
  },
  {
   "cell_type": "markdown",
   "metadata": {},
   "source": [
    "`colorama` is a package used to print coloured text to the terminal. It's usage in this tutorial is purely aesthetic. It will be used to print coloured text game representations to the terminal."
   ]
  },
  {
   "cell_type": "markdown",
   "metadata": {},
   "source": [
    "# Part 1: Game state definition"
   ]
  },
  {
   "cell_type": "markdown",
   "metadata": {},
   "source": [
    "<img src=\"images/pacman.jpeg\" alt=\"drawing\" width=\"500\"/>"
   ]
  },
  {
   "cell_type": "markdown",
   "metadata": {},
   "source": [
    "A game state is a snapshot of a game at a point in time. Mathematically it can be regarded as the set of all variables $s_t$ that fully specify a game at a given timestep $t$. Understanding the game representation of a game is paramount to conceptualize the inner workings of tree search based algorithms.\n",
    "\n",
    "As an example, let's define both the **state space** and the **action space** for the snapshot of Pacman shown above:"
   ]
  },
  {
   "cell_type": "markdown",
   "metadata": {},
   "source": [
    "**State space**:\n"
   ]
  },
  {
   "cell_type": "markdown",
   "metadata": {},
   "source": [
    "**Action space**:\n"
   ]
  },
  {
   "cell_type": "markdown",
   "metadata": {},
   "source": [
    "MCTS is an extremely generic tool for performing (game) tree searches. In order to remain agnostic to the underlying game being played, it requires a generic interface to interact with game trees. This interface is comprised of the following functions:\n",
    "\n",
    "+ `Clone()`: Creates a deep copy of the a game state. This is done so that we can simulate play in a separate environment without modifying the real game being played.\n",
    "+ `DoMove()`: Performs an action in a given state, modifying state. This function is sometimes refered to as the `Step()` function.\n",
    "+ `GetMoves()`: Returns a list containing all the possible moves (actions) that an agent can execute at this state. A state with no available moves is also known as a terminal state, as the game cannot advance from this state onwards.\n",
    "+ `GetResult()`: To query the outcome of a game upon termination."
   ]
  },
  {
   "cell_type": "markdown",
   "metadata": {},
   "source": [
    "As an example, in order to use an existing AI benchmarking framework we implemented a Java model of a game we created in Unity to compare deep reinforcement learning against MCTS for our game.\n",
    "<img src=\"images/Vaperio.png\" alt=\"VaperioOriginal\" width=\"550\"/>\n",
    "<img src=\"images/VaperioModel.png\" alt=\"VaperioOriginal\" width=\"550\"/>"
   ]
  },
  {
   "cell_type": "code",
   "execution_count": 26,
   "metadata": {},
   "outputs": [],
   "source": [
    "class GameState:\n",
    "    \"\"\"\n",
    "        A GameState represents a valid configuration of the 'state' of a game.\n",
    "        For instance:\n",
    "            - the position of all the active pieces on a chess board.\n",
    "            - The position and velocities of all the entities in a 3D world.\n",
    "        This interface presents the minimal functionality required to implement\n",
    "        an MCTS-UCT algorithm for a 2 player game.        \n",
    "    \"\"\"\n",
    "\n",
    "    def __init__(self):\n",
    "        self.playerJustMoved = 2 # Game starts with Player 1.\n",
    "\n",
    "    def Clone(self):\n",
    "        \"\"\" \n",
    "        :returns: deep copy of this GameState\n",
    "        \"\"\"\n",
    "        st = GameState()\n",
    "        st.playerJustMoved = self.playerJustMoved\n",
    "        return st\n",
    "\n",
    "    def DoMove(self, move):\n",
    "        \"\"\" \n",
    "        Changes the GameState by carrying out the param move.\n",
    "        :param move: (int) action taken by an agent.\n",
    "        \"\"\"\n",
    "        self.playerJustMoved = 3 - self.playerJustMoved\n",
    "\n",
    "    def GetMoves(self):\n",
    "        \"\"\" :returns: int array with all available moves at this state\n",
    "        \"\"\"\n",
    "        pass\n",
    "        \n",
    "    def IsGameOver(self):\n",
    "        \"\"\" :returns: whether this GameState is a terminal state\n",
    "        \"\"\"\n",
    "        return self.GetMoves() == []\n",
    "\n",
    "    def GetResult(self, player):\n",
    "        \"\"\" \n",
    "        :param player: (int) player which we want to see if he / she is a winner\n",
    "        :returns: winner from the perspective of the param player\n",
    "        \"\"\"\n",
    "        pass"
   ]
  },
  {
   "cell_type": "markdown",
   "metadata": {},
   "source": [
    "# Connect 4"
   ]
  },
  {
   "cell_type": "markdown",
   "metadata": {},
   "source": [
    "<img src=\"images/connect4.png\" alt=\"drawing\" width=\"350\"/>"
   ]
  },
  {
   "cell_type": "markdown",
   "metadata": {},
   "source": [
    "Connect 4 is a **two player**, **zero-sum**, **symetrical** connection game, in which players take turns dropping one coloured disc from the top into a seven-column, six-row grid. The pieces fall straight down, occupying the lowest available space within the column. The objective of the game is to be the first to form a horizontal, vertical or diagonal line of four of one's own discs.\n",
    "\n",
    "**Fun fact**: Connect 4 is a solved game. The first player is guaranteed to win by playing the right moves."
   ]
  },
  {
   "cell_type": "markdown",
   "metadata": {},
   "source": [
    "The game of Connect 4 can be represented programatically using the `GameState` interface shown above in the following way:"
   ]
  },
  {
   "cell_type": "code",
   "execution_count": 8,
   "metadata": {},
   "outputs": [],
   "source": [
    "class Connect4State(GameState):\n",
    "    \"\"\"\n",
    "        GameState for the Connect 4 game.\n",
    "        The board is represented as a 2D array (rows and columns).\n",
    "        Each entry on the array can be:\n",
    "            - 0 = empty    (.)\n",
    "            - 1 = player 1 (X)\n",
    "            - 2 = player 2 (O)\n",
    "    \"\"\"\n",
    "\n",
    "    def __init__(self, width=7, height=6, connect=4):\n",
    "        self.playerJustMoved = 2\n",
    "        self.winner = 0 # 0 = no winner, 1 = Player 1 wins, 2 = Player 2 wins.\n",
    "\n",
    "        self.width = width\n",
    "        self.height = height\n",
    "        self.connect = connect\n",
    "        self.InitializeBoard()\n",
    "\n",
    "    def InitializeBoard(self):\n",
    "        \"\"\" \n",
    "        Initialises the Connect 4 gameboard.\n",
    "        \"\"\"\n",
    "        self.board = []\n",
    "        for y in range(self.width):\n",
    "            self.board.append([0] * self.height)\n",
    "\n",
    "    def Clone(self):\n",
    "        \"\"\" \n",
    "        Creates a deep copy of the game state.\n",
    "        NOTE: it is _really_ important that a copy is used during simulations\n",
    "              Because otherwise MCTS would be operating on the real game board.\n",
    "        :returns: deep copy of this GameState\n",
    "        \"\"\"\n",
    "        st = Connect4State(width=self.width, height=self.height)\n",
    "        st.playerJustMoved = self.playerJustMoved\n",
    "        st.winner = self.winner\n",
    "        st.board = [self.board[col][:] for col in range(self.width)]\n",
    "        return st\n",
    "\n",
    "    def DoMove(self, movecol):\n",
    "        \"\"\" \n",
    "        Changes this GameState by \"dropping\" a chip in the column\n",
    "        specified by param movecol.\n",
    "        :param movecol: column over which a chip will be dropped\n",
    "        \"\"\"\n",
    "        assert movecol >= 0 and movecol <= self.width and self.board[movecol][self.height - 1] == 0\n",
    "        row = self.height - 1\n",
    "        while row >= 0 and self.board[movecol][row] == 0:\n",
    "            row -= 1\n",
    "\n",
    "        row += 1\n",
    "\n",
    "        self.playerJustMoved = 3 - self.playerJustMoved\n",
    "        self.board[movecol][row] = self.playerJustMoved\n",
    "        if self.DoesMoveWin(movecol, row):\n",
    "            self.winner = self.playerJustMoved\n",
    "            \n",
    "    def GetMoves(self):\n",
    "        \"\"\"\n",
    "        :returns: array with all possible moves, index of columns which aren't ful\n",
    "        \"\"\"\n",
    "        if self.winner != 0:\n",
    "            return []\n",
    "        return [col for col in range(self.width) if self.board[col][self.height - 1] == 0]\n",
    "\n",
    "    def DoesMoveWin(self, x, y):\n",
    "        \"\"\" \n",
    "        Checks whether a newly dropped chip at position param x, param y\n",
    "        wins the game.\n",
    "        :param x: column index\n",
    "        :param y: row index\n",
    "        :returns: (boolean) True if the previous move has won the game\n",
    "        \"\"\"\n",
    "        me = self.board[x][y]\n",
    "        for (dx, dy) in [(0, +1), (+1, +1), (+1, 0), (+1, -1)]:\n",
    "            p = 1\n",
    "            while self.IsOnBoard(x+p*dx, y+p*dy) and self.board[x+p*dx][y+p*dy] == me:\n",
    "                p += 1\n",
    "            n = 1\n",
    "            while self.IsOnBoard(x-n*dx, y-n*dy) and self.board[x-n*dx][y-n*dy] == me:\n",
    "                n += 1\n",
    "\n",
    "            if p + n >= (self.connect + 1): # want (p-1) + (n-1) + 1 >= 4, or more simply p + n >- 5\n",
    "                return True\n",
    "\n",
    "        return False\n",
    "\n",
    "    def IsOnBoard(self, x, y):\n",
    "        return x >= 0 and x < self.width and y >= 0 and y < self.height\n",
    "\n",
    "    def GetResult(self, player):\n",
    "        \"\"\" \n",
    "        :param player: (int) player which we want to see if he / she is a winner\n",
    "        :returns: winner from the perspective of the param player\n",
    "        \"\"\"\n",
    "        return player == self.winner\n",
    "\n",
    "    def __repr__(self):\n",
    "        s = \"\"\n",
    "        for x in range(self.height - 1, -1, -1):\n",
    "            for y in range(self.width):\n",
    "                s += [Fore.WHITE + '.', Fore.RED + 'X', Fore.YELLOW + 'O'][self.board[y][x]]\n",
    "                s += Fore.RESET\n",
    "            s += \"\\n\"\n",
    "        return s"
   ]
  },
  {
   "cell_type": "markdown",
   "metadata": {},
   "source": [
    "# The Game loop"
   ]
  },
  {
   "cell_type": "markdown",
   "metadata": {},
   "source": [
    "The game loop is probably the most important coding pattern in the field of video game programming. A game loop runs continuously during gameplay. Each turn of the loop, it processes user input, updates the game state, and renders the game. Here we will have the game play out randomly, as this is the simplest way to do rollouts in MCTS."
   ]
  },
  {
   "cell_type": "markdown",
   "metadata": {},
   "source": [
    "<img src=\"images/game-loop.png\" alt=\"drawing\" width=\"800\"/>"
   ]
  },
  {
   "cell_type": "code",
   "execution_count": 9,
   "metadata": {},
   "outputs": [],
   "source": [
    "def PlayGame(initialState):\n",
    "    state = initialState\n",
    "    while not state.IsGameOver():\n",
    "        # Render\n",
    "        print(str(state))\n",
    "        # Capture user input\n",
    "        if state.playerJustMoved == 1:\n",
    "            # Player 2 turn\n",
    "            move = random.choice(state.GetMoves())\n",
    "        else:\n",
    "            # Player 1 turn\n",
    "            move = random.choice(state.GetMoves())\n",
    "        # Update game state\n",
    "        state.DoMove(move)\n",
    "\n",
    "    PrintGameResults(state)"
   ]
  },
  {
   "cell_type": "code",
   "execution_count": 10,
   "metadata": {},
   "outputs": [],
   "source": [
    "def PrintGameResults(state):\n",
    "    \"\"\" \n",
    "    Print match results. Function assumes match is over.\n",
    "    \"\"\"\n",
    "    if state.GetResult(state.playerJustMoved) == 1.0:\n",
    "        print(str(state))\n",
    "        print(\"Player \" + str(state.playerJustMoved) + \" wins!\")\n",
    "    elif state.GetResult(state.playerJustMoved) == 0.0:\n",
    "        print(str(state))\n",
    "        print(\"Player \" + str(3 - state.playerJustMoved) + \" wins!\")\n",
    "    else:\n",
    "        print(\"Nobody wins!\")"
   ]
  },
  {
   "cell_type": "code",
   "execution_count": 8,
   "metadata": {},
   "outputs": [
    {
     "name": "stdout",
     "output_type": "stream",
     "text": [
      "\u001b[37m.\u001b[39m\u001b[37m.\u001b[39m\u001b[37m.\u001b[39m\u001b[37m.\u001b[39m\u001b[37m.\u001b[39m\u001b[37m.\u001b[39m\u001b[37m.\u001b[39m\n",
      "\u001b[37m.\u001b[39m\u001b[37m.\u001b[39m\u001b[37m.\u001b[39m\u001b[37m.\u001b[39m\u001b[37m.\u001b[39m\u001b[37m.\u001b[39m\u001b[37m.\u001b[39m\n",
      "\u001b[37m.\u001b[39m\u001b[37m.\u001b[39m\u001b[37m.\u001b[39m\u001b[37m.\u001b[39m\u001b[37m.\u001b[39m\u001b[37m.\u001b[39m\u001b[37m.\u001b[39m\n",
      "\u001b[37m.\u001b[39m\u001b[37m.\u001b[39m\u001b[37m.\u001b[39m\u001b[37m.\u001b[39m\u001b[37m.\u001b[39m\u001b[37m.\u001b[39m\u001b[37m.\u001b[39m\n",
      "\u001b[37m.\u001b[39m\u001b[37m.\u001b[39m\u001b[37m.\u001b[39m\u001b[37m.\u001b[39m\u001b[37m.\u001b[39m\u001b[37m.\u001b[39m\u001b[37m.\u001b[39m\n",
      "\u001b[37m.\u001b[39m\u001b[37m.\u001b[39m\u001b[37m.\u001b[39m\u001b[37m.\u001b[39m\u001b[37m.\u001b[39m\u001b[37m.\u001b[39m\u001b[37m.\u001b[39m\n",
      "\n",
      "\u001b[37m.\u001b[39m\u001b[37m.\u001b[39m\u001b[37m.\u001b[39m\u001b[37m.\u001b[39m\u001b[37m.\u001b[39m\u001b[37m.\u001b[39m\u001b[37m.\u001b[39m\n",
      "\u001b[37m.\u001b[39m\u001b[37m.\u001b[39m\u001b[37m.\u001b[39m\u001b[37m.\u001b[39m\u001b[37m.\u001b[39m\u001b[37m.\u001b[39m\u001b[37m.\u001b[39m\n",
      "\u001b[37m.\u001b[39m\u001b[37m.\u001b[39m\u001b[37m.\u001b[39m\u001b[37m.\u001b[39m\u001b[37m.\u001b[39m\u001b[37m.\u001b[39m\u001b[37m.\u001b[39m\n",
      "\u001b[37m.\u001b[39m\u001b[37m.\u001b[39m\u001b[37m.\u001b[39m\u001b[37m.\u001b[39m\u001b[37m.\u001b[39m\u001b[37m.\u001b[39m\u001b[37m.\u001b[39m\n",
      "\u001b[37m.\u001b[39m\u001b[37m.\u001b[39m\u001b[37m.\u001b[39m\u001b[37m.\u001b[39m\u001b[37m.\u001b[39m\u001b[37m.\u001b[39m\u001b[37m.\u001b[39m\n",
      "\u001b[37m.\u001b[39m\u001b[31mX\u001b[39m\u001b[37m.\u001b[39m\u001b[37m.\u001b[39m\u001b[37m.\u001b[39m\u001b[37m.\u001b[39m\u001b[37m.\u001b[39m\n",
      "\n",
      "\u001b[37m.\u001b[39m\u001b[37m.\u001b[39m\u001b[37m.\u001b[39m\u001b[37m.\u001b[39m\u001b[37m.\u001b[39m\u001b[37m.\u001b[39m\u001b[37m.\u001b[39m\n",
      "\u001b[37m.\u001b[39m\u001b[37m.\u001b[39m\u001b[37m.\u001b[39m\u001b[37m.\u001b[39m\u001b[37m.\u001b[39m\u001b[37m.\u001b[39m\u001b[37m.\u001b[39m\n",
      "\u001b[37m.\u001b[39m\u001b[37m.\u001b[39m\u001b[37m.\u001b[39m\u001b[37m.\u001b[39m\u001b[37m.\u001b[39m\u001b[37m.\u001b[39m\u001b[37m.\u001b[39m\n",
      "\u001b[37m.\u001b[39m\u001b[37m.\u001b[39m\u001b[37m.\u001b[39m\u001b[37m.\u001b[39m\u001b[37m.\u001b[39m\u001b[37m.\u001b[39m\u001b[37m.\u001b[39m\n",
      "\u001b[37m.\u001b[39m\u001b[37m.\u001b[39m\u001b[37m.\u001b[39m\u001b[37m.\u001b[39m\u001b[37m.\u001b[39m\u001b[37m.\u001b[39m\u001b[37m.\u001b[39m\n",
      "\u001b[37m.\u001b[39m\u001b[31mX\u001b[39m\u001b[33mO\u001b[39m\u001b[37m.\u001b[39m\u001b[37m.\u001b[39m\u001b[37m.\u001b[39m\u001b[37m.\u001b[39m\n",
      "\n",
      "\u001b[37m.\u001b[39m\u001b[37m.\u001b[39m\u001b[37m.\u001b[39m\u001b[37m.\u001b[39m\u001b[37m.\u001b[39m\u001b[37m.\u001b[39m\u001b[37m.\u001b[39m\n",
      "\u001b[37m.\u001b[39m\u001b[37m.\u001b[39m\u001b[37m.\u001b[39m\u001b[37m.\u001b[39m\u001b[37m.\u001b[39m\u001b[37m.\u001b[39m\u001b[37m.\u001b[39m\n",
      "\u001b[37m.\u001b[39m\u001b[37m.\u001b[39m\u001b[37m.\u001b[39m\u001b[37m.\u001b[39m\u001b[37m.\u001b[39m\u001b[37m.\u001b[39m\u001b[37m.\u001b[39m\n",
      "\u001b[37m.\u001b[39m\u001b[37m.\u001b[39m\u001b[37m.\u001b[39m\u001b[37m.\u001b[39m\u001b[37m.\u001b[39m\u001b[37m.\u001b[39m\u001b[37m.\u001b[39m\n",
      "\u001b[37m.\u001b[39m\u001b[37m.\u001b[39m\u001b[37m.\u001b[39m\u001b[37m.\u001b[39m\u001b[37m.\u001b[39m\u001b[37m.\u001b[39m\u001b[37m.\u001b[39m\n",
      "\u001b[37m.\u001b[39m\u001b[31mX\u001b[39m\u001b[33mO\u001b[39m\u001b[37m.\u001b[39m\u001b[37m.\u001b[39m\u001b[31mX\u001b[39m\u001b[37m.\u001b[39m\n",
      "\n",
      "\u001b[37m.\u001b[39m\u001b[37m.\u001b[39m\u001b[37m.\u001b[39m\u001b[37m.\u001b[39m\u001b[37m.\u001b[39m\u001b[37m.\u001b[39m\u001b[37m.\u001b[39m\n",
      "\u001b[37m.\u001b[39m\u001b[37m.\u001b[39m\u001b[37m.\u001b[39m\u001b[37m.\u001b[39m\u001b[37m.\u001b[39m\u001b[37m.\u001b[39m\u001b[37m.\u001b[39m\n",
      "\u001b[37m.\u001b[39m\u001b[37m.\u001b[39m\u001b[37m.\u001b[39m\u001b[37m.\u001b[39m\u001b[37m.\u001b[39m\u001b[37m.\u001b[39m\u001b[37m.\u001b[39m\n",
      "\u001b[37m.\u001b[39m\u001b[37m.\u001b[39m\u001b[37m.\u001b[39m\u001b[37m.\u001b[39m\u001b[37m.\u001b[39m\u001b[37m.\u001b[39m\u001b[37m.\u001b[39m\n",
      "\u001b[37m.\u001b[39m\u001b[37m.\u001b[39m\u001b[37m.\u001b[39m\u001b[37m.\u001b[39m\u001b[37m.\u001b[39m\u001b[37m.\u001b[39m\u001b[37m.\u001b[39m\n",
      "\u001b[33mO\u001b[39m\u001b[31mX\u001b[39m\u001b[33mO\u001b[39m\u001b[37m.\u001b[39m\u001b[37m.\u001b[39m\u001b[31mX\u001b[39m\u001b[37m.\u001b[39m\n",
      "\n",
      "\u001b[37m.\u001b[39m\u001b[37m.\u001b[39m\u001b[37m.\u001b[39m\u001b[37m.\u001b[39m\u001b[37m.\u001b[39m\u001b[37m.\u001b[39m\u001b[37m.\u001b[39m\n",
      "\u001b[37m.\u001b[39m\u001b[37m.\u001b[39m\u001b[37m.\u001b[39m\u001b[37m.\u001b[39m\u001b[37m.\u001b[39m\u001b[37m.\u001b[39m\u001b[37m.\u001b[39m\n",
      "\u001b[37m.\u001b[39m\u001b[37m.\u001b[39m\u001b[37m.\u001b[39m\u001b[37m.\u001b[39m\u001b[37m.\u001b[39m\u001b[37m.\u001b[39m\u001b[37m.\u001b[39m\n",
      "\u001b[37m.\u001b[39m\u001b[37m.\u001b[39m\u001b[37m.\u001b[39m\u001b[37m.\u001b[39m\u001b[37m.\u001b[39m\u001b[37m.\u001b[39m\u001b[37m.\u001b[39m\n",
      "\u001b[37m.\u001b[39m\u001b[37m.\u001b[39m\u001b[31mX\u001b[39m\u001b[37m.\u001b[39m\u001b[37m.\u001b[39m\u001b[37m.\u001b[39m\u001b[37m.\u001b[39m\n",
      "\u001b[33mO\u001b[39m\u001b[31mX\u001b[39m\u001b[33mO\u001b[39m\u001b[37m.\u001b[39m\u001b[37m.\u001b[39m\u001b[31mX\u001b[39m\u001b[37m.\u001b[39m\n",
      "\n",
      "\u001b[37m.\u001b[39m\u001b[37m.\u001b[39m\u001b[37m.\u001b[39m\u001b[37m.\u001b[39m\u001b[37m.\u001b[39m\u001b[37m.\u001b[39m\u001b[37m.\u001b[39m\n",
      "\u001b[37m.\u001b[39m\u001b[37m.\u001b[39m\u001b[37m.\u001b[39m\u001b[37m.\u001b[39m\u001b[37m.\u001b[39m\u001b[37m.\u001b[39m\u001b[37m.\u001b[39m\n",
      "\u001b[37m.\u001b[39m\u001b[37m.\u001b[39m\u001b[37m.\u001b[39m\u001b[37m.\u001b[39m\u001b[37m.\u001b[39m\u001b[37m.\u001b[39m\u001b[37m.\u001b[39m\n",
      "\u001b[37m.\u001b[39m\u001b[37m.\u001b[39m\u001b[37m.\u001b[39m\u001b[37m.\u001b[39m\u001b[37m.\u001b[39m\u001b[37m.\u001b[39m\u001b[37m.\u001b[39m\n",
      "\u001b[37m.\u001b[39m\u001b[37m.\u001b[39m\u001b[31mX\u001b[39m\u001b[37m.\u001b[39m\u001b[37m.\u001b[39m\u001b[37m.\u001b[39m\u001b[37m.\u001b[39m\n",
      "\u001b[33mO\u001b[39m\u001b[31mX\u001b[39m\u001b[33mO\u001b[39m\u001b[37m.\u001b[39m\u001b[37m.\u001b[39m\u001b[31mX\u001b[39m\u001b[33mO\u001b[39m\n",
      "\n",
      "\u001b[37m.\u001b[39m\u001b[37m.\u001b[39m\u001b[37m.\u001b[39m\u001b[37m.\u001b[39m\u001b[37m.\u001b[39m\u001b[37m.\u001b[39m\u001b[37m.\u001b[39m\n",
      "\u001b[37m.\u001b[39m\u001b[37m.\u001b[39m\u001b[37m.\u001b[39m\u001b[37m.\u001b[39m\u001b[37m.\u001b[39m\u001b[37m.\u001b[39m\u001b[37m.\u001b[39m\n",
      "\u001b[37m.\u001b[39m\u001b[37m.\u001b[39m\u001b[37m.\u001b[39m\u001b[37m.\u001b[39m\u001b[37m.\u001b[39m\u001b[37m.\u001b[39m\u001b[37m.\u001b[39m\n",
      "\u001b[37m.\u001b[39m\u001b[37m.\u001b[39m\u001b[37m.\u001b[39m\u001b[37m.\u001b[39m\u001b[37m.\u001b[39m\u001b[37m.\u001b[39m\u001b[37m.\u001b[39m\n",
      "\u001b[37m.\u001b[39m\u001b[37m.\u001b[39m\u001b[31mX\u001b[39m\u001b[37m.\u001b[39m\u001b[37m.\u001b[39m\u001b[37m.\u001b[39m\u001b[37m.\u001b[39m\n",
      "\u001b[33mO\u001b[39m\u001b[31mX\u001b[39m\u001b[33mO\u001b[39m\u001b[31mX\u001b[39m\u001b[37m.\u001b[39m\u001b[31mX\u001b[39m\u001b[33mO\u001b[39m\n",
      "\n",
      "\u001b[37m.\u001b[39m\u001b[37m.\u001b[39m\u001b[37m.\u001b[39m\u001b[37m.\u001b[39m\u001b[37m.\u001b[39m\u001b[37m.\u001b[39m\u001b[37m.\u001b[39m\n",
      "\u001b[37m.\u001b[39m\u001b[37m.\u001b[39m\u001b[37m.\u001b[39m\u001b[37m.\u001b[39m\u001b[37m.\u001b[39m\u001b[37m.\u001b[39m\u001b[37m.\u001b[39m\n",
      "\u001b[37m.\u001b[39m\u001b[37m.\u001b[39m\u001b[37m.\u001b[39m\u001b[37m.\u001b[39m\u001b[37m.\u001b[39m\u001b[37m.\u001b[39m\u001b[37m.\u001b[39m\n",
      "\u001b[37m.\u001b[39m\u001b[37m.\u001b[39m\u001b[37m.\u001b[39m\u001b[37m.\u001b[39m\u001b[37m.\u001b[39m\u001b[37m.\u001b[39m\u001b[37m.\u001b[39m\n",
      "\u001b[37m.\u001b[39m\u001b[33mO\u001b[39m\u001b[31mX\u001b[39m\u001b[37m.\u001b[39m\u001b[37m.\u001b[39m\u001b[37m.\u001b[39m\u001b[37m.\u001b[39m\n",
      "\u001b[33mO\u001b[39m\u001b[31mX\u001b[39m\u001b[33mO\u001b[39m\u001b[31mX\u001b[39m\u001b[37m.\u001b[39m\u001b[31mX\u001b[39m\u001b[33mO\u001b[39m\n",
      "\n",
      "\u001b[37m.\u001b[39m\u001b[37m.\u001b[39m\u001b[37m.\u001b[39m\u001b[37m.\u001b[39m\u001b[37m.\u001b[39m\u001b[37m.\u001b[39m\u001b[37m.\u001b[39m\n",
      "\u001b[37m.\u001b[39m\u001b[37m.\u001b[39m\u001b[37m.\u001b[39m\u001b[37m.\u001b[39m\u001b[37m.\u001b[39m\u001b[37m.\u001b[39m\u001b[37m.\u001b[39m\n",
      "\u001b[37m.\u001b[39m\u001b[37m.\u001b[39m\u001b[37m.\u001b[39m\u001b[37m.\u001b[39m\u001b[37m.\u001b[39m\u001b[37m.\u001b[39m\u001b[37m.\u001b[39m\n",
      "\u001b[37m.\u001b[39m\u001b[37m.\u001b[39m\u001b[31mX\u001b[39m\u001b[37m.\u001b[39m\u001b[37m.\u001b[39m\u001b[37m.\u001b[39m\u001b[37m.\u001b[39m\n",
      "\u001b[37m.\u001b[39m\u001b[33mO\u001b[39m\u001b[31mX\u001b[39m\u001b[37m.\u001b[39m\u001b[37m.\u001b[39m\u001b[37m.\u001b[39m\u001b[37m.\u001b[39m\n",
      "\u001b[33mO\u001b[39m\u001b[31mX\u001b[39m\u001b[33mO\u001b[39m\u001b[31mX\u001b[39m\u001b[37m.\u001b[39m\u001b[31mX\u001b[39m\u001b[33mO\u001b[39m\n",
      "\n",
      "\u001b[37m.\u001b[39m\u001b[37m.\u001b[39m\u001b[37m.\u001b[39m\u001b[37m.\u001b[39m\u001b[37m.\u001b[39m\u001b[37m.\u001b[39m\u001b[37m.\u001b[39m\n",
      "\u001b[37m.\u001b[39m\u001b[37m.\u001b[39m\u001b[37m.\u001b[39m\u001b[37m.\u001b[39m\u001b[37m.\u001b[39m\u001b[37m.\u001b[39m\u001b[37m.\u001b[39m\n",
      "\u001b[37m.\u001b[39m\u001b[37m.\u001b[39m\u001b[37m.\u001b[39m\u001b[37m.\u001b[39m\u001b[37m.\u001b[39m\u001b[37m.\u001b[39m\u001b[37m.\u001b[39m\n",
      "\u001b[37m.\u001b[39m\u001b[37m.\u001b[39m\u001b[31mX\u001b[39m\u001b[37m.\u001b[39m\u001b[37m.\u001b[39m\u001b[37m.\u001b[39m\u001b[37m.\u001b[39m\n",
      "\u001b[37m.\u001b[39m\u001b[33mO\u001b[39m\u001b[31mX\u001b[39m\u001b[37m.\u001b[39m\u001b[37m.\u001b[39m\u001b[37m.\u001b[39m\u001b[37m.\u001b[39m\n",
      "\u001b[33mO\u001b[39m\u001b[31mX\u001b[39m\u001b[33mO\u001b[39m\u001b[31mX\u001b[39m\u001b[33mO\u001b[39m\u001b[31mX\u001b[39m\u001b[33mO\u001b[39m\n",
      "\n",
      "\u001b[37m.\u001b[39m\u001b[37m.\u001b[39m\u001b[37m.\u001b[39m\u001b[37m.\u001b[39m\u001b[37m.\u001b[39m\u001b[37m.\u001b[39m\u001b[37m.\u001b[39m\n",
      "\u001b[37m.\u001b[39m\u001b[37m.\u001b[39m\u001b[37m.\u001b[39m\u001b[37m.\u001b[39m\u001b[37m.\u001b[39m\u001b[37m.\u001b[39m\u001b[37m.\u001b[39m\n",
      "\u001b[37m.\u001b[39m\u001b[37m.\u001b[39m\u001b[37m.\u001b[39m\u001b[37m.\u001b[39m\u001b[37m.\u001b[39m\u001b[37m.\u001b[39m\u001b[37m.\u001b[39m\n",
      "\u001b[37m.\u001b[39m\u001b[31mX\u001b[39m\u001b[31mX\u001b[39m\u001b[37m.\u001b[39m\u001b[37m.\u001b[39m\u001b[37m.\u001b[39m\u001b[37m.\u001b[39m\n",
      "\u001b[37m.\u001b[39m\u001b[33mO\u001b[39m\u001b[31mX\u001b[39m\u001b[37m.\u001b[39m\u001b[37m.\u001b[39m\u001b[37m.\u001b[39m\u001b[37m.\u001b[39m\n",
      "\u001b[33mO\u001b[39m\u001b[31mX\u001b[39m\u001b[33mO\u001b[39m\u001b[31mX\u001b[39m\u001b[33mO\u001b[39m\u001b[31mX\u001b[39m\u001b[33mO\u001b[39m\n",
      "\n",
      "\u001b[37m.\u001b[39m\u001b[37m.\u001b[39m\u001b[37m.\u001b[39m\u001b[37m.\u001b[39m\u001b[37m.\u001b[39m\u001b[37m.\u001b[39m\u001b[37m.\u001b[39m\n",
      "\u001b[37m.\u001b[39m\u001b[37m.\u001b[39m\u001b[37m.\u001b[39m\u001b[37m.\u001b[39m\u001b[37m.\u001b[39m\u001b[37m.\u001b[39m\u001b[37m.\u001b[39m\n",
      "\u001b[37m.\u001b[39m\u001b[37m.\u001b[39m\u001b[37m.\u001b[39m\u001b[37m.\u001b[39m\u001b[37m.\u001b[39m\u001b[37m.\u001b[39m\u001b[37m.\u001b[39m\n",
      "\u001b[37m.\u001b[39m\u001b[31mX\u001b[39m\u001b[31mX\u001b[39m\u001b[37m.\u001b[39m\u001b[37m.\u001b[39m\u001b[37m.\u001b[39m\u001b[37m.\u001b[39m\n",
      "\u001b[37m.\u001b[39m\u001b[33mO\u001b[39m\u001b[31mX\u001b[39m\u001b[37m.\u001b[39m\u001b[33mO\u001b[39m\u001b[37m.\u001b[39m\u001b[37m.\u001b[39m\n",
      "\u001b[33mO\u001b[39m\u001b[31mX\u001b[39m\u001b[33mO\u001b[39m\u001b[31mX\u001b[39m\u001b[33mO\u001b[39m\u001b[31mX\u001b[39m\u001b[33mO\u001b[39m\n",
      "\n",
      "\u001b[37m.\u001b[39m\u001b[37m.\u001b[39m\u001b[37m.\u001b[39m\u001b[37m.\u001b[39m\u001b[37m.\u001b[39m\u001b[37m.\u001b[39m\u001b[37m.\u001b[39m\n",
      "\u001b[37m.\u001b[39m\u001b[37m.\u001b[39m\u001b[37m.\u001b[39m\u001b[37m.\u001b[39m\u001b[37m.\u001b[39m\u001b[37m.\u001b[39m\u001b[37m.\u001b[39m\n",
      "\u001b[37m.\u001b[39m\u001b[37m.\u001b[39m\u001b[37m.\u001b[39m\u001b[37m.\u001b[39m\u001b[37m.\u001b[39m\u001b[37m.\u001b[39m\u001b[37m.\u001b[39m\n",
      "\u001b[37m.\u001b[39m\u001b[31mX\u001b[39m\u001b[31mX\u001b[39m\u001b[37m.\u001b[39m\u001b[37m.\u001b[39m\u001b[37m.\u001b[39m\u001b[37m.\u001b[39m\n",
      "\u001b[37m.\u001b[39m\u001b[33mO\u001b[39m\u001b[31mX\u001b[39m\u001b[37m.\u001b[39m\u001b[33mO\u001b[39m\u001b[37m.\u001b[39m\u001b[31mX\u001b[39m\n",
      "\u001b[33mO\u001b[39m\u001b[31mX\u001b[39m\u001b[33mO\u001b[39m\u001b[31mX\u001b[39m\u001b[33mO\u001b[39m\u001b[31mX\u001b[39m\u001b[33mO\u001b[39m\n",
      "\n",
      "\u001b[37m.\u001b[39m\u001b[37m.\u001b[39m\u001b[37m.\u001b[39m\u001b[37m.\u001b[39m\u001b[37m.\u001b[39m\u001b[37m.\u001b[39m\u001b[37m.\u001b[39m\n",
      "\u001b[37m.\u001b[39m\u001b[37m.\u001b[39m\u001b[37m.\u001b[39m\u001b[37m.\u001b[39m\u001b[37m.\u001b[39m\u001b[37m.\u001b[39m\u001b[37m.\u001b[39m\n",
      "\u001b[37m.\u001b[39m\u001b[33mO\u001b[39m\u001b[37m.\u001b[39m\u001b[37m.\u001b[39m\u001b[37m.\u001b[39m\u001b[37m.\u001b[39m\u001b[37m.\u001b[39m\n",
      "\u001b[37m.\u001b[39m\u001b[31mX\u001b[39m\u001b[31mX\u001b[39m\u001b[37m.\u001b[39m\u001b[37m.\u001b[39m\u001b[37m.\u001b[39m\u001b[37m.\u001b[39m\n",
      "\u001b[37m.\u001b[39m\u001b[33mO\u001b[39m\u001b[31mX\u001b[39m\u001b[37m.\u001b[39m\u001b[33mO\u001b[39m\u001b[37m.\u001b[39m\u001b[31mX\u001b[39m\n",
      "\u001b[33mO\u001b[39m\u001b[31mX\u001b[39m\u001b[33mO\u001b[39m\u001b[31mX\u001b[39m\u001b[33mO\u001b[39m\u001b[31mX\u001b[39m\u001b[33mO\u001b[39m\n",
      "\n",
      "\u001b[37m.\u001b[39m\u001b[37m.\u001b[39m\u001b[37m.\u001b[39m\u001b[37m.\u001b[39m\u001b[37m.\u001b[39m\u001b[37m.\u001b[39m\u001b[37m.\u001b[39m\n",
      "\u001b[37m.\u001b[39m\u001b[37m.\u001b[39m\u001b[37m.\u001b[39m\u001b[37m.\u001b[39m\u001b[37m.\u001b[39m\u001b[37m.\u001b[39m\u001b[37m.\u001b[39m\n",
      "\u001b[37m.\u001b[39m\u001b[33mO\u001b[39m\u001b[31mX\u001b[39m\u001b[37m.\u001b[39m\u001b[37m.\u001b[39m\u001b[37m.\u001b[39m\u001b[37m.\u001b[39m\n",
      "\u001b[37m.\u001b[39m\u001b[31mX\u001b[39m\u001b[31mX\u001b[39m\u001b[37m.\u001b[39m\u001b[37m.\u001b[39m\u001b[37m.\u001b[39m\u001b[37m.\u001b[39m\n",
      "\u001b[37m.\u001b[39m\u001b[33mO\u001b[39m\u001b[31mX\u001b[39m\u001b[37m.\u001b[39m\u001b[33mO\u001b[39m\u001b[37m.\u001b[39m\u001b[31mX\u001b[39m\n",
      "\u001b[33mO\u001b[39m\u001b[31mX\u001b[39m\u001b[33mO\u001b[39m\u001b[31mX\u001b[39m\u001b[33mO\u001b[39m\u001b[31mX\u001b[39m\u001b[33mO\u001b[39m\n",
      "\n",
      "\u001b[37m.\u001b[39m\u001b[37m.\u001b[39m\u001b[37m.\u001b[39m\u001b[37m.\u001b[39m\u001b[37m.\u001b[39m\u001b[37m.\u001b[39m\u001b[37m.\u001b[39m\n",
      "\u001b[37m.\u001b[39m\u001b[37m.\u001b[39m\u001b[37m.\u001b[39m\u001b[37m.\u001b[39m\u001b[37m.\u001b[39m\u001b[37m.\u001b[39m\u001b[37m.\u001b[39m\n",
      "\u001b[37m.\u001b[39m\u001b[33mO\u001b[39m\u001b[31mX\u001b[39m\u001b[37m.\u001b[39m\u001b[37m.\u001b[39m\u001b[37m.\u001b[39m\u001b[37m.\u001b[39m\n",
      "\u001b[37m.\u001b[39m\u001b[31mX\u001b[39m\u001b[31mX\u001b[39m\u001b[37m.\u001b[39m\u001b[37m.\u001b[39m\u001b[37m.\u001b[39m\u001b[37m.\u001b[39m\n",
      "\u001b[37m.\u001b[39m\u001b[33mO\u001b[39m\u001b[31mX\u001b[39m\u001b[37m.\u001b[39m\u001b[33mO\u001b[39m\u001b[33mO\u001b[39m\u001b[31mX\u001b[39m\n",
      "\u001b[33mO\u001b[39m\u001b[31mX\u001b[39m\u001b[33mO\u001b[39m\u001b[31mX\u001b[39m\u001b[33mO\u001b[39m\u001b[31mX\u001b[39m\u001b[33mO\u001b[39m\n",
      "\n",
      "\u001b[37m.\u001b[39m\u001b[37m.\u001b[39m\u001b[37m.\u001b[39m\u001b[37m.\u001b[39m\u001b[37m.\u001b[39m\u001b[37m.\u001b[39m\u001b[37m.\u001b[39m\n",
      "\u001b[37m.\u001b[39m\u001b[37m.\u001b[39m\u001b[37m.\u001b[39m\u001b[37m.\u001b[39m\u001b[37m.\u001b[39m\u001b[37m.\u001b[39m\u001b[37m.\u001b[39m\n",
      "\u001b[37m.\u001b[39m\u001b[33mO\u001b[39m\u001b[31mX\u001b[39m\u001b[37m.\u001b[39m\u001b[37m.\u001b[39m\u001b[37m.\u001b[39m\u001b[37m.\u001b[39m\n",
      "\u001b[37m.\u001b[39m\u001b[31mX\u001b[39m\u001b[31mX\u001b[39m\u001b[37m.\u001b[39m\u001b[37m.\u001b[39m\u001b[37m.\u001b[39m\u001b[31mX\u001b[39m\n",
      "\u001b[37m.\u001b[39m\u001b[33mO\u001b[39m\u001b[31mX\u001b[39m\u001b[37m.\u001b[39m\u001b[33mO\u001b[39m\u001b[33mO\u001b[39m\u001b[31mX\u001b[39m\n",
      "\u001b[33mO\u001b[39m\u001b[31mX\u001b[39m\u001b[33mO\u001b[39m\u001b[31mX\u001b[39m\u001b[33mO\u001b[39m\u001b[31mX\u001b[39m\u001b[33mO\u001b[39m\n",
      "\n",
      "\u001b[37m.\u001b[39m\u001b[37m.\u001b[39m\u001b[37m.\u001b[39m\u001b[37m.\u001b[39m\u001b[37m.\u001b[39m\u001b[37m.\u001b[39m\u001b[37m.\u001b[39m\n",
      "\u001b[37m.\u001b[39m\u001b[37m.\u001b[39m\u001b[37m.\u001b[39m\u001b[37m.\u001b[39m\u001b[37m.\u001b[39m\u001b[37m.\u001b[39m\u001b[37m.\u001b[39m\n",
      "\u001b[37m.\u001b[39m\u001b[33mO\u001b[39m\u001b[31mX\u001b[39m\u001b[37m.\u001b[39m\u001b[37m.\u001b[39m\u001b[37m.\u001b[39m\u001b[37m.\u001b[39m\n",
      "\u001b[37m.\u001b[39m\u001b[31mX\u001b[39m\u001b[31mX\u001b[39m\u001b[37m.\u001b[39m\u001b[33mO\u001b[39m\u001b[37m.\u001b[39m\u001b[31mX\u001b[39m\n",
      "\u001b[37m.\u001b[39m\u001b[33mO\u001b[39m\u001b[31mX\u001b[39m\u001b[37m.\u001b[39m\u001b[33mO\u001b[39m\u001b[33mO\u001b[39m\u001b[31mX\u001b[39m\n",
      "\u001b[33mO\u001b[39m\u001b[31mX\u001b[39m\u001b[33mO\u001b[39m\u001b[31mX\u001b[39m\u001b[33mO\u001b[39m\u001b[31mX\u001b[39m\u001b[33mO\u001b[39m\n",
      "\n",
      "\u001b[37m.\u001b[39m\u001b[37m.\u001b[39m\u001b[37m.\u001b[39m\u001b[37m.\u001b[39m\u001b[37m.\u001b[39m\u001b[37m.\u001b[39m\u001b[37m.\u001b[39m\n",
      "\u001b[37m.\u001b[39m\u001b[37m.\u001b[39m\u001b[37m.\u001b[39m\u001b[37m.\u001b[39m\u001b[37m.\u001b[39m\u001b[37m.\u001b[39m\u001b[37m.\u001b[39m\n",
      "\u001b[37m.\u001b[39m\u001b[33mO\u001b[39m\u001b[31mX\u001b[39m\u001b[37m.\u001b[39m\u001b[37m.\u001b[39m\u001b[37m.\u001b[39m\u001b[37m.\u001b[39m\n",
      "\u001b[37m.\u001b[39m\u001b[31mX\u001b[39m\u001b[31mX\u001b[39m\u001b[37m.\u001b[39m\u001b[33mO\u001b[39m\u001b[31mX\u001b[39m\u001b[31mX\u001b[39m\n",
      "\u001b[37m.\u001b[39m\u001b[33mO\u001b[39m\u001b[31mX\u001b[39m\u001b[37m.\u001b[39m\u001b[33mO\u001b[39m\u001b[33mO\u001b[39m\u001b[31mX\u001b[39m\n",
      "\u001b[33mO\u001b[39m\u001b[31mX\u001b[39m\u001b[33mO\u001b[39m\u001b[31mX\u001b[39m\u001b[33mO\u001b[39m\u001b[31mX\u001b[39m\u001b[33mO\u001b[39m\n",
      "\n",
      "\u001b[37m.\u001b[39m\u001b[37m.\u001b[39m\u001b[37m.\u001b[39m\u001b[37m.\u001b[39m\u001b[37m.\u001b[39m\u001b[37m.\u001b[39m\u001b[37m.\u001b[39m\n",
      "\u001b[37m.\u001b[39m\u001b[37m.\u001b[39m\u001b[37m.\u001b[39m\u001b[37m.\u001b[39m\u001b[37m.\u001b[39m\u001b[37m.\u001b[39m\u001b[37m.\u001b[39m\n",
      "\u001b[37m.\u001b[39m\u001b[33mO\u001b[39m\u001b[31mX\u001b[39m\u001b[37m.\u001b[39m\u001b[37m.\u001b[39m\u001b[33mO\u001b[39m\u001b[37m.\u001b[39m\n",
      "\u001b[37m.\u001b[39m\u001b[31mX\u001b[39m\u001b[31mX\u001b[39m\u001b[37m.\u001b[39m\u001b[33mO\u001b[39m\u001b[31mX\u001b[39m\u001b[31mX\u001b[39m\n",
      "\u001b[37m.\u001b[39m\u001b[33mO\u001b[39m\u001b[31mX\u001b[39m\u001b[37m.\u001b[39m\u001b[33mO\u001b[39m\u001b[33mO\u001b[39m\u001b[31mX\u001b[39m\n",
      "\u001b[33mO\u001b[39m\u001b[31mX\u001b[39m\u001b[33mO\u001b[39m\u001b[31mX\u001b[39m\u001b[33mO\u001b[39m\u001b[31mX\u001b[39m\u001b[33mO\u001b[39m\n",
      "\n",
      "\u001b[37m.\u001b[39m\u001b[37m.\u001b[39m\u001b[37m.\u001b[39m\u001b[37m.\u001b[39m\u001b[37m.\u001b[39m\u001b[37m.\u001b[39m\u001b[37m.\u001b[39m\n",
      "\u001b[37m.\u001b[39m\u001b[37m.\u001b[39m\u001b[37m.\u001b[39m\u001b[37m.\u001b[39m\u001b[37m.\u001b[39m\u001b[37m.\u001b[39m\u001b[37m.\u001b[39m\n",
      "\u001b[37m.\u001b[39m\u001b[33mO\u001b[39m\u001b[31mX\u001b[39m\u001b[37m.\u001b[39m\u001b[37m.\u001b[39m\u001b[33mO\u001b[39m\u001b[31mX\u001b[39m\n",
      "\u001b[37m.\u001b[39m\u001b[31mX\u001b[39m\u001b[31mX\u001b[39m\u001b[37m.\u001b[39m\u001b[33mO\u001b[39m\u001b[31mX\u001b[39m\u001b[31mX\u001b[39m\n",
      "\u001b[37m.\u001b[39m\u001b[33mO\u001b[39m\u001b[31mX\u001b[39m\u001b[37m.\u001b[39m\u001b[33mO\u001b[39m\u001b[33mO\u001b[39m\u001b[31mX\u001b[39m\n",
      "\u001b[33mO\u001b[39m\u001b[31mX\u001b[39m\u001b[33mO\u001b[39m\u001b[31mX\u001b[39m\u001b[33mO\u001b[39m\u001b[31mX\u001b[39m\u001b[33mO\u001b[39m\n",
      "\n",
      "\u001b[37m.\u001b[39m\u001b[37m.\u001b[39m\u001b[37m.\u001b[39m\u001b[37m.\u001b[39m\u001b[37m.\u001b[39m\u001b[37m.\u001b[39m\u001b[37m.\u001b[39m\n",
      "\u001b[37m.\u001b[39m\u001b[37m.\u001b[39m\u001b[37m.\u001b[39m\u001b[37m.\u001b[39m\u001b[37m.\u001b[39m\u001b[37m.\u001b[39m\u001b[37m.\u001b[39m\n",
      "\u001b[37m.\u001b[39m\u001b[33mO\u001b[39m\u001b[31mX\u001b[39m\u001b[37m.\u001b[39m\u001b[37m.\u001b[39m\u001b[33mO\u001b[39m\u001b[31mX\u001b[39m\n",
      "\u001b[37m.\u001b[39m\u001b[31mX\u001b[39m\u001b[31mX\u001b[39m\u001b[37m.\u001b[39m\u001b[33mO\u001b[39m\u001b[31mX\u001b[39m\u001b[31mX\u001b[39m\n",
      "\u001b[37m.\u001b[39m\u001b[33mO\u001b[39m\u001b[31mX\u001b[39m\u001b[33mO\u001b[39m\u001b[33mO\u001b[39m\u001b[33mO\u001b[39m\u001b[31mX\u001b[39m\n",
      "\u001b[33mO\u001b[39m\u001b[31mX\u001b[39m\u001b[33mO\u001b[39m\u001b[31mX\u001b[39m\u001b[33mO\u001b[39m\u001b[31mX\u001b[39m\u001b[33mO\u001b[39m\n",
      "\n",
      "Player 2 wins!\n"
     ]
    }
   ],
   "source": [
    "env = Connect4State(width=7, height= 6)\n",
    "PlayGame(env)"
   ]
  },
  {
   "cell_type": "markdown",
   "metadata": {},
   "source": [
    "# Game Trees"
   ]
  },
  {
   "cell_type": "code",
   "execution_count": 11,
   "metadata": {},
   "outputs": [],
   "source": [
    "class Node:\n",
    "    \"\"\" Node of a game tree. A tree is a connected acyclic graph.\n",
    "        Note: self.wins is from the perspective of playerJustMoved.\n",
    "    \"\"\"\n",
    "\n",
    "    def __init__(self, move=None, parent=None, state=None):\n",
    "        self.move = move  # Move that was taken to reach this game state \n",
    "        self.parentNode = parent  # \"None\" for the root node\n",
    "        self.childNodes = []\n",
    "        \n",
    "        # Part 1.1: node specific information\n",
    "        self.wins = 0\n",
    "        self.visits = 0\n",
    "        self.untriedMoves = state.GetMoves()  # Future childNodes\n",
    "        self.playerJustMoved = state.playerJustMoved  # To check who won or who lost.\n",
    "        # End Part 1.1\n",
    "        \n",
    "    def IsFullyExpanded(self):\n",
    "        return self.untriedMoves == []\n",
    "\n",
    "    def AddChild(self, move, state):\n",
    "        \"\"\"\n",
    "        Adds a new child node to this Node. \n",
    "        :param move: (int) action taken by the player\n",
    "        :param state: (GameState) state corresponding to new child node\n",
    "        :returns: new expanded node added to the tree\n",
    "        \"\"\"\n",
    "        # Part 1.2: Create new node in the tree\n",
    "        node = Node(move=move, parent=self, state=state)\n",
    "        self.untriedMoves.remove(move)\n",
    "        self.childNodes.append(node)\n",
    "        return node\n",
    "        # End of Part 1.2\n",
    "\n",
    "    def Update(self, result):\n",
    "        \"\"\"\n",
    "        Updates the node statistics saved in this node with the param result\n",
    "         which is the information obtained during the latest rollout.\n",
    "        :param result: (bool) 1 for victory, 0 for draw / loss.\n",
    "        \"\"\"\n",
    "        # Part 1.3: Updating node statistics\n",
    "        self.visits += 1\n",
    "        self.wins += result\n",
    "        # End of Part 1.3"
   ]
  },
  {
   "cell_type": "markdown",
   "metadata": {},
   "source": [
    "# Part 2: Monte Carlo Tree Search (MCTS-UCT)"
   ]
  },
  {
   "cell_type": "markdown",
   "metadata": {},
   "source": [
    "Monte Carlo Tree Search is a best-first (greedy) search algorithm that gradually builds up a search tree and uses Monte Carlo simulations to approximate the value of game states. Given a current state of the game, by estimating the value of all possible next game states, we can take the action which will take us the next game state with highest value.\n",
    "\n",
    "MCTS is initialized with only the root node of a tree. This root node represents the current game state in which the decision is to be made. The algorithm repeats a 4-phase iteration loop until a computational budget expires. The concept of computational budget normally takes the shape of a fixed amount of iterations, or a fixed amount of computational time. The latter being the most common. \n",
    "\n",
    "UCT stands for UCB applied to trees, and is used in the selection phase depicted below."
   ]
  },
  {
   "cell_type": "markdown",
   "metadata": {},
   "source": [
    "<img src=\"images/mcts-diagram.png\" alt=\"drawing\" width=\"800\"/>"
   ]
  },
  {
   "cell_type": "markdown",
   "metadata": {},
   "source": [
    "## Selection Phase\n",
    "\n",
    "\n",
    "The selection phase chooses which part of the tree will be explored next, based on the previous information collected during the MCTS run. It always begins in the root node of the game tree, and it is repeated recursively until a node which isn't fully expanded has been reached. A node is considered fully expanded if all of its child nodes have been visited at least once. The selection phase traverses the known tree until a leave node is reached. This is the node that MCTS deems most promising, hence we get the notion of \"best-first\". \n",
    "\n",
    "The selection phase is carried out thus:\n",
    "\n",
    "1. If the current node is fully expanded, continue, else finish phase.\n",
    "2. Use a selection equation to determine the best child node. The selection phase of the algorithm we are covering, MCTS-UCT, is governed by the UCB1 equation below.\n",
    "3. Traverse the tree to the node with the highest selection value.\n",
    "4. Repeat\n",
    "\n",
    "$$UCB1 = \\frac{w_i}{n_i} + c \\sqrt{\\frac{\\log{N_i}}{n_i}}$$\n",
    "\n",
    "+ $w_i$: Number of victories accumulated at **child node** $i$.\n",
    "+ $n_i$: Number of visits accumulated at **child node** $i$.\n",
    "+ $N_i$: Number of visits accumulated at currently selected node.\n",
    "+ $c$: exploration parameter. Constant value that allows a tradeoff between exploration and exploitation. A lower value for $c$ increases the importance of exploitation, and a higher value biases the selection towards exploration. Further reading on [exploitation vs exploration](https://medium.com/@dennybritz/exploration-vs-exploitation-f46af4cf62fe)"
   ]
  },
  {
   "cell_type": "code",
   "execution_count": 12,
   "metadata": {},
   "outputs": [],
   "source": [
    "def UCB1(node, child, exploration_constant=sqrt(2)):\n",
    "    return child.wins / child.visits + exploration_constant * sqrt(log(node.visits) / child.visits)"
   ]
  },
  {
   "cell_type": "code",
   "execution_count": 13,
   "metadata": {},
   "outputs": [],
   "source": [
    "def selection_phase(node, state, selection_policy=UCB1):\n",
    "    if not node.IsFullyExpanded() or node.childNodes == []:\n",
    "        return node\n",
    "    selected_node = sorted(node.childNodes, key=lambda child: selection_policy(node, child))[-1]\n",
    "    state.DoMove(selected_node.move)\n",
    "    return selection_phase(selected_node, state)"
   ]
  },
  {
   "cell_type": "markdown",
   "metadata": {},
   "source": [
    "## Expansion Phase"
   ]
  },
  {
   "cell_type": "markdown",
   "metadata": {},
   "source": [
    "Once a node which isn't fully expanded has been reached, one of it's unvisited child nodes is choosen at random, increasing the tree by adding one more node with some initialized statistics. This child node is *expanded* by:\n",
    "\n",
    "1. Adding the child node to the MCTS tree, as a child to the node selected in the Selection phase.\n",
    "2. Instantiating all relevant statistics used in the selection formula for in the Selection phase. For UCB1, these statistics are:\n",
    "\n",
    "\n",
    "+ $w$: number of victories achieved in a rollout where this node was selected.\n",
    "+ $n$: number of times this node has been visited (i.e selected during selection phase)."
   ]
  },
  {
   "cell_type": "code",
   "execution_count": 14,
   "metadata": {},
   "outputs": [],
   "source": [
    "def expansion_phase(node, state):\n",
    "    if node.untriedMoves != []:  # if we can expand (i.e. state/node is non-terminal)\n",
    "        move = random.choice(node.untriedMoves)\n",
    "        state.DoMove(move)\n",
    "        node = node.AddChild(move, state)\n",
    "    return node"
   ]
  },
  {
   "cell_type": "markdown",
   "metadata": {},
   "source": [
    "## Rollout Phase"
   ]
  },
  {
   "cell_type": "markdown",
   "metadata": {},
   "source": [
    "In our context, a rollout is a Monte Carlo (i.e random) tree traversal that begins in a node of the game tree and ends in a terminal node. It's a game simulation that takes place in a cloned version of the real game being played. The simulation of the rollout phase begins in the last node expanded in the expansion phase. Random actions are taken for all players until a termninal node is reached. The fact that we are taking random actions by all agents is important, as it ensures that we are computing an unbiased monte carlo estimate of the value function for the state represented in the node where the simulation began.\n",
    "\n",
    "**Note**: Except for the node where the simulation begins, all game tree nodes visited during a rollout are *NOT* part of the tree being built by MCTS."
   ]
  },
  {
   "cell_type": "code",
   "execution_count": 15,
   "metadata": {},
   "outputs": [],
   "source": [
    "def rollout_phase(state):\n",
    "    while state.GetMoves() != []:\n",
    "        state.DoMove(random.choice(state.GetMoves()))"
   ]
  },
  {
   "cell_type": "markdown",
   "metadata": {},
   "source": [
    "## Backpropagation"
   ]
  },
  {
   "cell_type": "markdown",
   "metadata": {},
   "source": [
    "Once a terminal node is reached during the rollout phase, the result of the simulation is observed. For vanilla MCTS, the result is a binary random variable, either a win or a loss. This result is backpropagated through both the newly expanded node, and all the nodes selected during the selection phase. To backpropagate the result means to update the statistics of all nodes on the route from the root of the tree to the node where the rollout began. These statistics are the number of visits $n_i$ and wins $w_i$ for a given node $i$. "
   ]
  },
  {
   "cell_type": "code",
   "execution_count": 16,
   "metadata": {},
   "outputs": [],
   "source": [
    "def backpropagation_phase(node, state):\n",
    "    if node is not None:\n",
    "        node.Update(state.GetResult(node.playerJustMoved))\n",
    "        backpropagation_phase(node.parentNode, state)    "
   ]
  },
  {
   "cell_type": "markdown",
   "metadata": {},
   "source": [
    "Example"
   ]
  },
  {
   "cell_type": "markdown",
   "metadata": {},
   "source": [
    "## Action selection\n",
    "\n",
    "Once the computational budget has run out, the last step in any MCTS algorithm is to select an action to take in the actual game being played. As it is the case with all phases of MCTS, there are different approaches. The two most common ones are the following:\n",
    "\n",
    "1. Select the action which has the highest expected winrate. That is, for all child nodes of the root node, select the action that maximises $\\frac{w_i}{n_i}$, the empirical winrate of the action encoded in the edge linking the root node with the child node $i$.\n",
    "2. If we stay true to the assumption that MCTS searches a game tree using a best-first heuristic, the most visited child node must correspond to the most valuable action explored by MCTS. Thus, we select the action corresponding to the child node $i$ which features the highest visit count $n_i$."
   ]
  },
  {
   "cell_type": "code",
   "execution_count": 17,
   "metadata": {},
   "outputs": [],
   "source": [
    "def action_selection_phase(node):\n",
    "    return sorted(node.childNodes, key=lambda c: c.wins / c.visits)[-1].move"
   ]
  },
  {
   "cell_type": "markdown",
   "metadata": {},
   "source": [
    "## Algorithm termination"
   ]
  },
  {
   "cell_type": "markdown",
   "metadata": {},
   "source": [
    "One of the greatest advantages of MCTS is that it is an *anytime algorithm*, meaning that its computation can be stopped an any time and queried for the best action computed given the computational time that it has used until then. This is particularly useful in videogames, as the computational resources often need to be divided between rendering, player input, network features, etc. In these cases it may not be possible to assign a constant computational budget to the AI algorithm being used."
   ]
  },
  {
   "cell_type": "markdown",
   "metadata": {},
   "source": [
    "## Open loop VS Closed Loop MCTS"
   ]
  },
  {
   "cell_type": "markdown",
   "metadata": {},
   "source": [
    "<img src=\"images/open-vs-close-loop.png\" alt=\"drawing\" width=\"800\"/>"
   ]
  },
  {
   "cell_type": "markdown",
   "metadata": {},
   "source": [
    "An **open-loop** approach keeps only one state representation at the root node of the game tree being computed by MCTS, and each of the edges represent an action. As the game tree is being traversed, the actions stored in the nodes being traversed are used as input to the *model* of the game. Thus the initial state stored at the root of the tree changes according to the actions selected during the game tree traversal. Once an MCTS iteration is over, this stated modified during the tree traversal is discarded, and a new clone of the state of the root node is created. Furthermore, we don't store the intermediate states obtained during the traversal. This means that we are esentially throwing away the computation performed by the model as soon as we don't need it.\n",
    "\n",
    "A **closed-loop** approach stores a complete state of the game on each of the nodes of the game tree computed by MCTS. This means that the actions stored in the nodes only need to be used with the game's model once, because we are caching the resulting state of running the model on a state represented by a node with a given action.\n",
    "\n",
    "Both approaches are valid, and each feature their own set of advantages and disadvantages. The open loop approach is (slightly) more computationally demanding because the model is called more often. However, the closed loop approach needs to store potentially tens of thousands of game states, which may be unfeasible for games which require a significant amount of space to simple denote a game state.\n",
    "\n",
    "For nondeterministic games with probabilistic models that are not exposed to the agent, open loop implementations are preferred."
   ]
  },
  {
   "cell_type": "markdown",
   "metadata": {},
   "source": [
    "## Combining everything"
   ]
  },
  {
   "cell_type": "markdown",
   "metadata": {},
   "source": [
    "Let's put all phases together into a unique function."
   ]
  },
  {
   "cell_type": "code",
   "execution_count": 25,
   "metadata": {},
   "outputs": [],
   "source": [
    "def MCTS_UCT(rootstate, itermax):\n",
    "    \"\"\" \n",
    "    Conducts a game tree search using the MCTS-UCT algorithm\n",
    "    for a total of param itermax iterations. The search begins\n",
    "    in the param rootstate. Assumes that 2 players are alternating\n",
    "    with results being [0.0, 1.0].\n",
    "\n",
    "    :param rootstate: The game state for which an action must be selected.\n",
    "    :param itermax: number of MCTS iterations to be carried out. Also knwon as the computational budget.\n",
    "    :returns: (int) Action that will be taken by an agent.\n",
    "    \"\"\"\n",
    "    rootnode = Node(state=rootstate)\n",
    "    \n",
    "    for i in range(itermax):\n",
    "        node  = rootnode\n",
    "        state = rootstate.Clone()\n",
    "\n",
    "        node  = selection_phase(node, state, selection_policy=UCB1)\n",
    "\n",
    "        node  = expansion_phase(node, state)\n",
    "            \n",
    "        rollout_phase(state)\n",
    "            \n",
    "        backpropagation_phase(node, state)\n",
    "    \n",
    "    return action_selection_phase(rootnode)"
   ]
  },
  {
   "cell_type": "markdown",
   "metadata": {},
   "source": [
    "# Part 3: Playing!"
   ]
  },
  {
   "cell_type": "code",
   "execution_count": 26,
   "metadata": {},
   "outputs": [],
   "source": [
    "def PlayGame(initialState):\n",
    "    state = initialState\n",
    "    while not state.IsGameOver():  # If we're not in a terminal state\n",
    "        print(str(state))\n",
    "        if state.playerJustMoved == 1:\n",
    "            # Player 2 turn\n",
    "            move = MCTS_UCT(state, itermax=10000) # Now we are using UCT instead of random!\n",
    "        else:\n",
    "            # Player 1 turn\n",
    "            move = MCTS_UCT(state, itermax=10000)\n",
    "        state.DoMove(move)\n",
    "    PrintGameResults(state)"
   ]
  },
  {
   "cell_type": "code",
   "execution_count": 27,
   "metadata": {},
   "outputs": [
    {
     "name": "stdout",
     "output_type": "stream",
     "text": [
      "\u001b[37m.\u001b[39m\u001b[37m.\u001b[39m\u001b[37m.\u001b[39m\u001b[37m.\u001b[39m\u001b[37m.\u001b[39m\u001b[37m.\u001b[39m\u001b[37m.\u001b[39m\n",
      "\u001b[37m.\u001b[39m\u001b[37m.\u001b[39m\u001b[37m.\u001b[39m\u001b[37m.\u001b[39m\u001b[37m.\u001b[39m\u001b[37m.\u001b[39m\u001b[37m.\u001b[39m\n",
      "\u001b[37m.\u001b[39m\u001b[37m.\u001b[39m\u001b[37m.\u001b[39m\u001b[37m.\u001b[39m\u001b[37m.\u001b[39m\u001b[37m.\u001b[39m\u001b[37m.\u001b[39m\n",
      "\u001b[37m.\u001b[39m\u001b[37m.\u001b[39m\u001b[37m.\u001b[39m\u001b[37m.\u001b[39m\u001b[37m.\u001b[39m\u001b[37m.\u001b[39m\u001b[37m.\u001b[39m\n",
      "\u001b[37m.\u001b[39m\u001b[37m.\u001b[39m\u001b[37m.\u001b[39m\u001b[37m.\u001b[39m\u001b[37m.\u001b[39m\u001b[37m.\u001b[39m\u001b[37m.\u001b[39m\n",
      "\u001b[37m.\u001b[39m\u001b[37m.\u001b[39m\u001b[37m.\u001b[39m\u001b[37m.\u001b[39m\u001b[37m.\u001b[39m\u001b[37m.\u001b[39m\u001b[37m.\u001b[39m\n",
      "\n",
      "\u001b[37m.\u001b[39m\u001b[37m.\u001b[39m\u001b[37m.\u001b[39m\u001b[37m.\u001b[39m\u001b[37m.\u001b[39m\u001b[37m.\u001b[39m\u001b[37m.\u001b[39m\n",
      "\u001b[37m.\u001b[39m\u001b[37m.\u001b[39m\u001b[37m.\u001b[39m\u001b[37m.\u001b[39m\u001b[37m.\u001b[39m\u001b[37m.\u001b[39m\u001b[37m.\u001b[39m\n",
      "\u001b[37m.\u001b[39m\u001b[37m.\u001b[39m\u001b[37m.\u001b[39m\u001b[37m.\u001b[39m\u001b[37m.\u001b[39m\u001b[37m.\u001b[39m\u001b[37m.\u001b[39m\n",
      "\u001b[37m.\u001b[39m\u001b[37m.\u001b[39m\u001b[37m.\u001b[39m\u001b[37m.\u001b[39m\u001b[37m.\u001b[39m\u001b[37m.\u001b[39m\u001b[37m.\u001b[39m\n",
      "\u001b[37m.\u001b[39m\u001b[37m.\u001b[39m\u001b[37m.\u001b[39m\u001b[37m.\u001b[39m\u001b[37m.\u001b[39m\u001b[37m.\u001b[39m\u001b[37m.\u001b[39m\n",
      "\u001b[37m.\u001b[39m\u001b[37m.\u001b[39m\u001b[37m.\u001b[39m\u001b[31mX\u001b[39m\u001b[37m.\u001b[39m\u001b[37m.\u001b[39m\u001b[37m.\u001b[39m\n",
      "\n"
     ]
    },
    {
     "ename": "KeyboardInterrupt",
     "evalue": "",
     "output_type": "error",
     "traceback": [
      "\u001b[0;31m---------------------------------------------------------------------------\u001b[0m",
      "\u001b[0;31mKeyboardInterrupt\u001b[0m                         Traceback (most recent call last)",
      "\u001b[0;32m<ipython-input-27-2ad602fd0a0d>\u001b[0m in \u001b[0;36m<module>\u001b[0;34m()\u001b[0m\n\u001b[1;32m      1\u001b[0m \u001b[0mInitialState\u001b[0m \u001b[0;34m=\u001b[0m \u001b[0mConnect4State\u001b[0m\u001b[0;34m(\u001b[0m\u001b[0;34m)\u001b[0m\u001b[0;34m\u001b[0m\u001b[0m\n\u001b[0;32m----> 2\u001b[0;31m \u001b[0mPlayGame\u001b[0m\u001b[0;34m(\u001b[0m\u001b[0mInitialState\u001b[0m\u001b[0;34m)\u001b[0m\u001b[0;34m\u001b[0m\u001b[0m\n\u001b[0m",
      "\u001b[0;32m<ipython-input-26-dc9d0efe6ac2>\u001b[0m in \u001b[0;36mPlayGame\u001b[0;34m(initialState)\u001b[0m\n\u001b[1;32m      5\u001b[0m         \u001b[0;32mif\u001b[0m \u001b[0mstate\u001b[0m\u001b[0;34m.\u001b[0m\u001b[0mplayerJustMoved\u001b[0m \u001b[0;34m==\u001b[0m \u001b[0;36m1\u001b[0m\u001b[0;34m:\u001b[0m\u001b[0;34m\u001b[0m\u001b[0m\n\u001b[1;32m      6\u001b[0m             \u001b[0;31m# Player 2 turn\u001b[0m\u001b[0;34m\u001b[0m\u001b[0;34m\u001b[0m\u001b[0m\n\u001b[0;32m----> 7\u001b[0;31m             \u001b[0mmove\u001b[0m \u001b[0;34m=\u001b[0m \u001b[0mMCTS_UCT\u001b[0m\u001b[0;34m(\u001b[0m\u001b[0mstate\u001b[0m\u001b[0;34m,\u001b[0m \u001b[0mitermax\u001b[0m\u001b[0;34m=\u001b[0m\u001b[0;36m10000\u001b[0m\u001b[0;34m)\u001b[0m \u001b[0;31m# Now we are using UCT instead of random!\u001b[0m\u001b[0;34m\u001b[0m\u001b[0m\n\u001b[0m\u001b[1;32m      8\u001b[0m         \u001b[0;32melse\u001b[0m\u001b[0;34m:\u001b[0m\u001b[0;34m\u001b[0m\u001b[0m\n\u001b[1;32m      9\u001b[0m             \u001b[0;31m# Player 1 turn\u001b[0m\u001b[0;34m\u001b[0m\u001b[0;34m\u001b[0m\u001b[0m\n",
      "\u001b[0;32m<ipython-input-25-1b1413b2981f>\u001b[0m in \u001b[0;36mMCTS_UCT\u001b[0;34m(rootstate, itermax)\u001b[0m\n\u001b[1;32m     20\u001b[0m         \u001b[0mnode\u001b[0m  \u001b[0;34m=\u001b[0m \u001b[0mexpansion_phase\u001b[0m\u001b[0;34m(\u001b[0m\u001b[0mnode\u001b[0m\u001b[0;34m,\u001b[0m \u001b[0mstate\u001b[0m\u001b[0;34m)\u001b[0m\u001b[0;34m\u001b[0m\u001b[0m\n\u001b[1;32m     21\u001b[0m \u001b[0;34m\u001b[0m\u001b[0m\n\u001b[0;32m---> 22\u001b[0;31m         \u001b[0mrollout_phase\u001b[0m\u001b[0;34m(\u001b[0m\u001b[0mstate\u001b[0m\u001b[0;34m)\u001b[0m\u001b[0;34m\u001b[0m\u001b[0m\n\u001b[0m\u001b[1;32m     23\u001b[0m \u001b[0;34m\u001b[0m\u001b[0m\n\u001b[1;32m     24\u001b[0m         \u001b[0mbackpropagation_phase\u001b[0m\u001b[0;34m(\u001b[0m\u001b[0mnode\u001b[0m\u001b[0;34m,\u001b[0m \u001b[0mstate\u001b[0m\u001b[0;34m)\u001b[0m\u001b[0;34m\u001b[0m\u001b[0m\n",
      "\u001b[0;32m<ipython-input-15-ea3aaf1f2472>\u001b[0m in \u001b[0;36mrollout_phase\u001b[0;34m(state)\u001b[0m\n\u001b[1;32m      1\u001b[0m \u001b[0;32mdef\u001b[0m \u001b[0mrollout_phase\u001b[0m\u001b[0;34m(\u001b[0m\u001b[0mstate\u001b[0m\u001b[0;34m)\u001b[0m\u001b[0;34m:\u001b[0m\u001b[0;34m\u001b[0m\u001b[0m\n\u001b[1;32m      2\u001b[0m     \u001b[0;32mwhile\u001b[0m \u001b[0mstate\u001b[0m\u001b[0;34m.\u001b[0m\u001b[0mGetMoves\u001b[0m\u001b[0;34m(\u001b[0m\u001b[0;34m)\u001b[0m \u001b[0;34m!=\u001b[0m \u001b[0;34m[\u001b[0m\u001b[0;34m]\u001b[0m\u001b[0;34m:\u001b[0m\u001b[0;34m\u001b[0m\u001b[0m\n\u001b[0;32m----> 3\u001b[0;31m         \u001b[0mstate\u001b[0m\u001b[0;34m.\u001b[0m\u001b[0mDoMove\u001b[0m\u001b[0;34m(\u001b[0m\u001b[0mrandom\u001b[0m\u001b[0;34m.\u001b[0m\u001b[0mchoice\u001b[0m\u001b[0;34m(\u001b[0m\u001b[0mstate\u001b[0m\u001b[0;34m.\u001b[0m\u001b[0mGetMoves\u001b[0m\u001b[0;34m(\u001b[0m\u001b[0;34m)\u001b[0m\u001b[0;34m)\u001b[0m\u001b[0;34m)\u001b[0m\u001b[0;34m\u001b[0m\u001b[0m\n\u001b[0m",
      "\u001b[0;32m/usr/lib/python3.6/random.py\u001b[0m in \u001b[0;36mchoice\u001b[0;34m(self, seq)\u001b[0m\n\u001b[1;32m    254\u001b[0m         \u001b[0;34m\"\"\"Choose a random element from a non-empty sequence.\"\"\"\u001b[0m\u001b[0;34m\u001b[0m\u001b[0m\n\u001b[1;32m    255\u001b[0m         \u001b[0;32mtry\u001b[0m\u001b[0;34m:\u001b[0m\u001b[0;34m\u001b[0m\u001b[0m\n\u001b[0;32m--> 256\u001b[0;31m             \u001b[0mi\u001b[0m \u001b[0;34m=\u001b[0m \u001b[0mself\u001b[0m\u001b[0;34m.\u001b[0m\u001b[0m_randbelow\u001b[0m\u001b[0;34m(\u001b[0m\u001b[0mlen\u001b[0m\u001b[0;34m(\u001b[0m\u001b[0mseq\u001b[0m\u001b[0;34m)\u001b[0m\u001b[0;34m)\u001b[0m\u001b[0;34m\u001b[0m\u001b[0m\n\u001b[0m\u001b[1;32m    257\u001b[0m         \u001b[0;32mexcept\u001b[0m \u001b[0mValueError\u001b[0m\u001b[0;34m:\u001b[0m\u001b[0;34m\u001b[0m\u001b[0m\n\u001b[1;32m    258\u001b[0m             \u001b[0;32mraise\u001b[0m \u001b[0mIndexError\u001b[0m\u001b[0;34m(\u001b[0m\u001b[0;34m'Cannot choose from an empty sequence'\u001b[0m\u001b[0;34m)\u001b[0m \u001b[0;32mfrom\u001b[0m \u001b[0;32mNone\u001b[0m\u001b[0;34m\u001b[0m\u001b[0m\n",
      "\u001b[0;32m/usr/lib/python3.6/random.py\u001b[0m in \u001b[0;36m_randbelow\u001b[0;34m(self, n, int, maxsize, type, Method, BuiltinMethod)\u001b[0m\n\u001b[1;32m    226\u001b[0m \u001b[0;34m\u001b[0m\u001b[0m\n\u001b[1;32m    227\u001b[0m         \u001b[0mrandom\u001b[0m \u001b[0;34m=\u001b[0m \u001b[0mself\u001b[0m\u001b[0;34m.\u001b[0m\u001b[0mrandom\u001b[0m\u001b[0;34m\u001b[0m\u001b[0m\n\u001b[0;32m--> 228\u001b[0;31m         \u001b[0mgetrandbits\u001b[0m \u001b[0;34m=\u001b[0m \u001b[0mself\u001b[0m\u001b[0;34m.\u001b[0m\u001b[0mgetrandbits\u001b[0m\u001b[0;34m\u001b[0m\u001b[0m\n\u001b[0m\u001b[1;32m    229\u001b[0m         \u001b[0;31m# Only call self.getrandbits if the original random() builtin method\u001b[0m\u001b[0;34m\u001b[0m\u001b[0;34m\u001b[0m\u001b[0m\n\u001b[1;32m    230\u001b[0m         \u001b[0;31m# has not been overridden or if a new getrandbits() was supplied.\u001b[0m\u001b[0;34m\u001b[0m\u001b[0;34m\u001b[0m\u001b[0m\n",
      "\u001b[0;31mKeyboardInterrupt\u001b[0m: "
     ]
    }
   ],
   "source": [
    "InitialState = Connect4State()\n",
    "PlayGame(InitialState)"
   ]
  },
  {
   "cell_type": "markdown",
   "metadata": {},
   "source": [
    "# Part 4: Algorithm robustness"
   ]
  },
  {
   "cell_type": "markdown",
   "metadata": {},
   "source": [
    "**Definition of robustness**: qualitative property of the algorithm of maintaining a good performance whilst being agnostic to changes of the underlying game."
   ]
  },
  {
   "cell_type": "markdown",
   "metadata": {},
   "source": [
    "## Robustness to game modification"
   ]
  },
  {
   "cell_type": "markdown",
   "metadata": {},
   "source": [
    "<img src=\"images/connect-four-thousand.jpeg\" alt=\"drawing\" width=\"300\"/>"
   ]
  },
  {
   "cell_type": "markdown",
   "metadata": {},
   "source": [
    "Let's change the rules of the game. Instead of playing Connect 4 on a 7x6 board. Let's play Connect 4000 on a 5000x20 board. What are the effects of these changes on the game tree representing this new game?\n",
    "\n",
    "+ Increases complexity of the underlying game tree, requiring more rollouts to reach a good approximation.\n",
    "+ The branching factor of the game tree increases greatly since a player now has 5,000 possible actions arather than 7. We may need more than 10,000 rollouts to determine which of 5,000 actions is the best.\n",
    "+ Increases rollout length, increasing computational need of each iteration."
   ]
  },
  {
   "cell_type": "code",
   "execution_count": 21,
   "metadata": {},
   "outputs": [
    {
     "name": "stdout",
     "output_type": "stream",
     "text": [
      "\u001b[37m.\u001b[39m\u001b[37m.\u001b[39m\u001b[37m.\u001b[39m\u001b[37m.\u001b[39m\u001b[37m.\u001b[39m\u001b[37m.\u001b[39m\u001b[37m.\u001b[39m\n",
      "\u001b[37m.\u001b[39m\u001b[37m.\u001b[39m\u001b[37m.\u001b[39m\u001b[37m.\u001b[39m\u001b[37m.\u001b[39m\u001b[37m.\u001b[39m\u001b[37m.\u001b[39m\n",
      "\u001b[37m.\u001b[39m\u001b[37m.\u001b[39m\u001b[37m.\u001b[39m\u001b[37m.\u001b[39m\u001b[37m.\u001b[39m\u001b[37m.\u001b[39m\u001b[37m.\u001b[39m\n",
      "\u001b[37m.\u001b[39m\u001b[37m.\u001b[39m\u001b[37m.\u001b[39m\u001b[37m.\u001b[39m\u001b[37m.\u001b[39m\u001b[37m.\u001b[39m\u001b[37m.\u001b[39m\n",
      "\u001b[37m.\u001b[39m\u001b[37m.\u001b[39m\u001b[37m.\u001b[39m\u001b[37m.\u001b[39m\u001b[37m.\u001b[39m\u001b[37m.\u001b[39m\u001b[37m.\u001b[39m\n",
      "\u001b[37m.\u001b[39m\u001b[37m.\u001b[39m\u001b[37m.\u001b[39m\u001b[37m.\u001b[39m\u001b[37m.\u001b[39m\u001b[37m.\u001b[39m\u001b[37m.\u001b[39m\n",
      "\n",
      "\u001b[37m.\u001b[39m\u001b[37m.\u001b[39m\u001b[37m.\u001b[39m\u001b[37m.\u001b[39m\u001b[37m.\u001b[39m\u001b[37m.\u001b[39m\u001b[37m.\u001b[39m\n",
      "\u001b[37m.\u001b[39m\u001b[37m.\u001b[39m\u001b[37m.\u001b[39m\u001b[37m.\u001b[39m\u001b[37m.\u001b[39m\u001b[37m.\u001b[39m\u001b[37m.\u001b[39m\n",
      "\u001b[37m.\u001b[39m\u001b[37m.\u001b[39m\u001b[37m.\u001b[39m\u001b[37m.\u001b[39m\u001b[37m.\u001b[39m\u001b[37m.\u001b[39m\u001b[37m.\u001b[39m\n",
      "\u001b[37m.\u001b[39m\u001b[37m.\u001b[39m\u001b[37m.\u001b[39m\u001b[37m.\u001b[39m\u001b[37m.\u001b[39m\u001b[37m.\u001b[39m\u001b[37m.\u001b[39m\n",
      "\u001b[37m.\u001b[39m\u001b[37m.\u001b[39m\u001b[37m.\u001b[39m\u001b[37m.\u001b[39m\u001b[37m.\u001b[39m\u001b[37m.\u001b[39m\u001b[37m.\u001b[39m\n",
      "\u001b[37m.\u001b[39m\u001b[37m.\u001b[39m\u001b[37m.\u001b[39m\u001b[31mX\u001b[39m\u001b[37m.\u001b[39m\u001b[37m.\u001b[39m\u001b[37m.\u001b[39m\n",
      "\n",
      "\u001b[37m.\u001b[39m\u001b[37m.\u001b[39m\u001b[37m.\u001b[39m\u001b[37m.\u001b[39m\u001b[37m.\u001b[39m\u001b[37m.\u001b[39m\u001b[37m.\u001b[39m\n",
      "\u001b[37m.\u001b[39m\u001b[37m.\u001b[39m\u001b[37m.\u001b[39m\u001b[37m.\u001b[39m\u001b[37m.\u001b[39m\u001b[37m.\u001b[39m\u001b[37m.\u001b[39m\n",
      "\u001b[37m.\u001b[39m\u001b[37m.\u001b[39m\u001b[37m.\u001b[39m\u001b[37m.\u001b[39m\u001b[37m.\u001b[39m\u001b[37m.\u001b[39m\u001b[37m.\u001b[39m\n",
      "\u001b[37m.\u001b[39m\u001b[37m.\u001b[39m\u001b[37m.\u001b[39m\u001b[37m.\u001b[39m\u001b[37m.\u001b[39m\u001b[37m.\u001b[39m\u001b[37m.\u001b[39m\n",
      "\u001b[37m.\u001b[39m\u001b[37m.\u001b[39m\u001b[37m.\u001b[39m\u001b[33mO\u001b[39m\u001b[37m.\u001b[39m\u001b[37m.\u001b[39m\u001b[37m.\u001b[39m\n",
      "\u001b[37m.\u001b[39m\u001b[37m.\u001b[39m\u001b[37m.\u001b[39m\u001b[31mX\u001b[39m\u001b[37m.\u001b[39m\u001b[37m.\u001b[39m\u001b[37m.\u001b[39m\n",
      "\n",
      "\u001b[37m.\u001b[39m\u001b[37m.\u001b[39m\u001b[37m.\u001b[39m\u001b[37m.\u001b[39m\u001b[37m.\u001b[39m\u001b[37m.\u001b[39m\u001b[37m.\u001b[39m\n",
      "\u001b[37m.\u001b[39m\u001b[37m.\u001b[39m\u001b[37m.\u001b[39m\u001b[37m.\u001b[39m\u001b[37m.\u001b[39m\u001b[37m.\u001b[39m\u001b[37m.\u001b[39m\n",
      "\u001b[37m.\u001b[39m\u001b[37m.\u001b[39m\u001b[37m.\u001b[39m\u001b[37m.\u001b[39m\u001b[37m.\u001b[39m\u001b[37m.\u001b[39m\u001b[37m.\u001b[39m\n",
      "\u001b[37m.\u001b[39m\u001b[37m.\u001b[39m\u001b[37m.\u001b[39m\u001b[37m.\u001b[39m\u001b[37m.\u001b[39m\u001b[37m.\u001b[39m\u001b[37m.\u001b[39m\n",
      "\u001b[37m.\u001b[39m\u001b[37m.\u001b[39m\u001b[37m.\u001b[39m\u001b[33mO\u001b[39m\u001b[37m.\u001b[39m\u001b[37m.\u001b[39m\u001b[37m.\u001b[39m\n",
      "\u001b[37m.\u001b[39m\u001b[37m.\u001b[39m\u001b[37m.\u001b[39m\u001b[31mX\u001b[39m\u001b[31mX\u001b[39m\u001b[37m.\u001b[39m\u001b[37m.\u001b[39m\n",
      "\n"
     ]
    },
    {
     "ename": "KeyboardInterrupt",
     "evalue": "",
     "output_type": "error",
     "traceback": [
      "\u001b[0;31m---------------------------------------------------------------------------\u001b[0m",
      "\u001b[0;31mKeyboardInterrupt\u001b[0m                         Traceback (most recent call last)",
      "\u001b[0;32m<ipython-input-21-7bbb68ef25d6>\u001b[0m in \u001b[0;36m<module>\u001b[0;34m()\u001b[0m\n\u001b[1;32m      1\u001b[0m \u001b[0minitialState\u001b[0m \u001b[0;34m=\u001b[0m \u001b[0mConnect4State\u001b[0m\u001b[0;34m(\u001b[0m\u001b[0mwidth\u001b[0m\u001b[0;34m=\u001b[0m\u001b[0;36m7\u001b[0m\u001b[0;34m,\u001b[0m \u001b[0mheight\u001b[0m\u001b[0;34m=\u001b[0m\u001b[0;36m6\u001b[0m\u001b[0;34m,\u001b[0m \u001b[0mconnect\u001b[0m\u001b[0;34m=\u001b[0m\u001b[0;36m5\u001b[0m\u001b[0;34m)\u001b[0m\u001b[0;34m\u001b[0m\u001b[0m\n\u001b[0;32m----> 2\u001b[0;31m \u001b[0mPlayGame\u001b[0m\u001b[0;34m(\u001b[0m\u001b[0minitialState\u001b[0m\u001b[0;34m)\u001b[0m\u001b[0;34m\u001b[0m\u001b[0m\n\u001b[0m",
      "\u001b[0;32m<ipython-input-19-91234129266e>\u001b[0m in \u001b[0;36mPlayGame\u001b[0;34m(initialState)\u001b[0m\n\u001b[1;32m      5\u001b[0m         \u001b[0;32mif\u001b[0m \u001b[0mstate\u001b[0m\u001b[0;34m.\u001b[0m\u001b[0mplayerJustMoved\u001b[0m \u001b[0;34m==\u001b[0m \u001b[0;36m1\u001b[0m\u001b[0;34m:\u001b[0m\u001b[0;34m\u001b[0m\u001b[0m\n\u001b[1;32m      6\u001b[0m             \u001b[0;31m# Player 2 turn\u001b[0m\u001b[0;34m\u001b[0m\u001b[0;34m\u001b[0m\u001b[0m\n\u001b[0;32m----> 7\u001b[0;31m             \u001b[0mmove\u001b[0m \u001b[0;34m=\u001b[0m \u001b[0mUCT\u001b[0m\u001b[0;34m(\u001b[0m\u001b[0mstate\u001b[0m\u001b[0;34m,\u001b[0m \u001b[0mitermax\u001b[0m\u001b[0;34m=\u001b[0m\u001b[0;36m10000\u001b[0m\u001b[0;34m)\u001b[0m \u001b[0;31m# Now we are using UCT instead of random!\u001b[0m\u001b[0;34m\u001b[0m\u001b[0m\n\u001b[0m\u001b[1;32m      8\u001b[0m         \u001b[0;32melse\u001b[0m\u001b[0;34m:\u001b[0m\u001b[0;34m\u001b[0m\u001b[0m\n\u001b[1;32m      9\u001b[0m             \u001b[0;31m# Player 1 turn\u001b[0m\u001b[0;34m\u001b[0m\u001b[0;34m\u001b[0m\u001b[0m\n",
      "\u001b[0;32m<ipython-input-18-636a17a77e4a>\u001b[0m in \u001b[0;36mUCT\u001b[0;34m(rootstate, itermax)\u001b[0m\n\u001b[1;32m     20\u001b[0m         \u001b[0mnode\u001b[0m  \u001b[0;34m=\u001b[0m \u001b[0mexpansion_phase\u001b[0m\u001b[0;34m(\u001b[0m\u001b[0mnode\u001b[0m\u001b[0;34m,\u001b[0m \u001b[0mstate\u001b[0m\u001b[0;34m)\u001b[0m\u001b[0;34m\u001b[0m\u001b[0m\n\u001b[1;32m     21\u001b[0m \u001b[0;34m\u001b[0m\u001b[0m\n\u001b[0;32m---> 22\u001b[0;31m         \u001b[0mrollout_phase\u001b[0m\u001b[0;34m(\u001b[0m\u001b[0mstate\u001b[0m\u001b[0;34m)\u001b[0m\u001b[0;34m\u001b[0m\u001b[0m\n\u001b[0m\u001b[1;32m     23\u001b[0m \u001b[0;34m\u001b[0m\u001b[0m\n\u001b[1;32m     24\u001b[0m         \u001b[0mbackpropagation_phase\u001b[0m\u001b[0;34m(\u001b[0m\u001b[0mnode\u001b[0m\u001b[0;34m,\u001b[0m \u001b[0mstate\u001b[0m\u001b[0;34m)\u001b[0m\u001b[0;34m\u001b[0m\u001b[0m\n",
      "\u001b[0;32m<ipython-input-15-ea3aaf1f2472>\u001b[0m in \u001b[0;36mrollout_phase\u001b[0;34m(state)\u001b[0m\n\u001b[1;32m      1\u001b[0m \u001b[0;32mdef\u001b[0m \u001b[0mrollout_phase\u001b[0m\u001b[0;34m(\u001b[0m\u001b[0mstate\u001b[0m\u001b[0;34m)\u001b[0m\u001b[0;34m:\u001b[0m\u001b[0;34m\u001b[0m\u001b[0m\n\u001b[1;32m      2\u001b[0m     \u001b[0;32mwhile\u001b[0m \u001b[0mstate\u001b[0m\u001b[0;34m.\u001b[0m\u001b[0mGetMoves\u001b[0m\u001b[0;34m(\u001b[0m\u001b[0;34m)\u001b[0m \u001b[0;34m!=\u001b[0m \u001b[0;34m[\u001b[0m\u001b[0;34m]\u001b[0m\u001b[0;34m:\u001b[0m\u001b[0;34m\u001b[0m\u001b[0m\n\u001b[0;32m----> 3\u001b[0;31m         \u001b[0mstate\u001b[0m\u001b[0;34m.\u001b[0m\u001b[0mDoMove\u001b[0m\u001b[0;34m(\u001b[0m\u001b[0mrandom\u001b[0m\u001b[0;34m.\u001b[0m\u001b[0mchoice\u001b[0m\u001b[0;34m(\u001b[0m\u001b[0mstate\u001b[0m\u001b[0;34m.\u001b[0m\u001b[0mGetMoves\u001b[0m\u001b[0;34m(\u001b[0m\u001b[0;34m)\u001b[0m\u001b[0;34m)\u001b[0m\u001b[0;34m)\u001b[0m\u001b[0;34m\u001b[0m\u001b[0m\n\u001b[0m",
      "\u001b[0;32m<ipython-input-8-666d6ef35271>\u001b[0m in \u001b[0;36mDoMove\u001b[0;34m(self, movecol)\u001b[0m\n\u001b[1;32m     54\u001b[0m         \u001b[0mself\u001b[0m\u001b[0;34m.\u001b[0m\u001b[0mplayerJustMoved\u001b[0m \u001b[0;34m=\u001b[0m \u001b[0;36m3\u001b[0m \u001b[0;34m-\u001b[0m \u001b[0mself\u001b[0m\u001b[0;34m.\u001b[0m\u001b[0mplayerJustMoved\u001b[0m\u001b[0;34m\u001b[0m\u001b[0m\n\u001b[1;32m     55\u001b[0m         \u001b[0mself\u001b[0m\u001b[0;34m.\u001b[0m\u001b[0mboard\u001b[0m\u001b[0;34m[\u001b[0m\u001b[0mmovecol\u001b[0m\u001b[0;34m]\u001b[0m\u001b[0;34m[\u001b[0m\u001b[0mrow\u001b[0m\u001b[0;34m]\u001b[0m \u001b[0;34m=\u001b[0m \u001b[0mself\u001b[0m\u001b[0;34m.\u001b[0m\u001b[0mplayerJustMoved\u001b[0m\u001b[0;34m\u001b[0m\u001b[0m\n\u001b[0;32m---> 56\u001b[0;31m         \u001b[0;32mif\u001b[0m \u001b[0mself\u001b[0m\u001b[0;34m.\u001b[0m\u001b[0mDoesMoveWin\u001b[0m\u001b[0;34m(\u001b[0m\u001b[0mmovecol\u001b[0m\u001b[0;34m,\u001b[0m \u001b[0mrow\u001b[0m\u001b[0;34m)\u001b[0m\u001b[0;34m:\u001b[0m\u001b[0;34m\u001b[0m\u001b[0m\n\u001b[0m\u001b[1;32m     57\u001b[0m             \u001b[0mself\u001b[0m\u001b[0;34m.\u001b[0m\u001b[0mwinner\u001b[0m \u001b[0;34m=\u001b[0m \u001b[0mself\u001b[0m\u001b[0;34m.\u001b[0m\u001b[0mplayerJustMoved\u001b[0m\u001b[0;34m\u001b[0m\u001b[0m\n\u001b[1;32m     58\u001b[0m \u001b[0;34m\u001b[0m\u001b[0m\n",
      "\u001b[0;32m<ipython-input-8-666d6ef35271>\u001b[0m in \u001b[0;36mDoesMoveWin\u001b[0;34m(self, x, y)\u001b[0m\n\u001b[1;32m     76\u001b[0m         \u001b[0;32mfor\u001b[0m \u001b[0;34m(\u001b[0m\u001b[0mdx\u001b[0m\u001b[0;34m,\u001b[0m \u001b[0mdy\u001b[0m\u001b[0;34m)\u001b[0m \u001b[0;32min\u001b[0m \u001b[0;34m[\u001b[0m\u001b[0;34m(\u001b[0m\u001b[0;36m0\u001b[0m\u001b[0;34m,\u001b[0m \u001b[0;34m+\u001b[0m\u001b[0;36m1\u001b[0m\u001b[0;34m)\u001b[0m\u001b[0;34m,\u001b[0m \u001b[0;34m(\u001b[0m\u001b[0;34m+\u001b[0m\u001b[0;36m1\u001b[0m\u001b[0;34m,\u001b[0m \u001b[0;34m+\u001b[0m\u001b[0;36m1\u001b[0m\u001b[0;34m)\u001b[0m\u001b[0;34m,\u001b[0m \u001b[0;34m(\u001b[0m\u001b[0;34m+\u001b[0m\u001b[0;36m1\u001b[0m\u001b[0;34m,\u001b[0m \u001b[0;36m0\u001b[0m\u001b[0;34m)\u001b[0m\u001b[0;34m,\u001b[0m \u001b[0;34m(\u001b[0m\u001b[0;34m+\u001b[0m\u001b[0;36m1\u001b[0m\u001b[0;34m,\u001b[0m \u001b[0;34m-\u001b[0m\u001b[0;36m1\u001b[0m\u001b[0;34m)\u001b[0m\u001b[0;34m]\u001b[0m\u001b[0;34m:\u001b[0m\u001b[0;34m\u001b[0m\u001b[0m\n\u001b[1;32m     77\u001b[0m             \u001b[0mp\u001b[0m \u001b[0;34m=\u001b[0m \u001b[0;36m1\u001b[0m\u001b[0;34m\u001b[0m\u001b[0m\n\u001b[0;32m---> 78\u001b[0;31m             \u001b[0;32mwhile\u001b[0m \u001b[0mself\u001b[0m\u001b[0;34m.\u001b[0m\u001b[0mIsOnBoard\u001b[0m\u001b[0;34m(\u001b[0m\u001b[0mx\u001b[0m\u001b[0;34m+\u001b[0m\u001b[0mp\u001b[0m\u001b[0;34m*\u001b[0m\u001b[0mdx\u001b[0m\u001b[0;34m,\u001b[0m \u001b[0my\u001b[0m\u001b[0;34m+\u001b[0m\u001b[0mp\u001b[0m\u001b[0;34m*\u001b[0m\u001b[0mdy\u001b[0m\u001b[0;34m)\u001b[0m \u001b[0;32mand\u001b[0m \u001b[0mself\u001b[0m\u001b[0;34m.\u001b[0m\u001b[0mboard\u001b[0m\u001b[0;34m[\u001b[0m\u001b[0mx\u001b[0m\u001b[0;34m+\u001b[0m\u001b[0mp\u001b[0m\u001b[0;34m*\u001b[0m\u001b[0mdx\u001b[0m\u001b[0;34m]\u001b[0m\u001b[0;34m[\u001b[0m\u001b[0my\u001b[0m\u001b[0;34m+\u001b[0m\u001b[0mp\u001b[0m\u001b[0;34m*\u001b[0m\u001b[0mdy\u001b[0m\u001b[0;34m]\u001b[0m \u001b[0;34m==\u001b[0m \u001b[0mme\u001b[0m\u001b[0;34m:\u001b[0m\u001b[0;34m\u001b[0m\u001b[0m\n\u001b[0m\u001b[1;32m     79\u001b[0m                 \u001b[0mp\u001b[0m \u001b[0;34m+=\u001b[0m \u001b[0;36m1\u001b[0m\u001b[0;34m\u001b[0m\u001b[0m\n\u001b[1;32m     80\u001b[0m             \u001b[0mn\u001b[0m \u001b[0;34m=\u001b[0m \u001b[0;36m1\u001b[0m\u001b[0;34m\u001b[0m\u001b[0m\n",
      "\u001b[0;32m<ipython-input-8-666d6ef35271>\u001b[0m in \u001b[0;36mIsOnBoard\u001b[0;34m(self, x, y)\u001b[0m\n\u001b[1;32m     88\u001b[0m \u001b[0;34m\u001b[0m\u001b[0m\n\u001b[1;32m     89\u001b[0m     \u001b[0;32mdef\u001b[0m \u001b[0mIsOnBoard\u001b[0m\u001b[0;34m(\u001b[0m\u001b[0mself\u001b[0m\u001b[0;34m,\u001b[0m \u001b[0mx\u001b[0m\u001b[0;34m,\u001b[0m \u001b[0my\u001b[0m\u001b[0;34m)\u001b[0m\u001b[0;34m:\u001b[0m\u001b[0;34m\u001b[0m\u001b[0m\n\u001b[0;32m---> 90\u001b[0;31m         \u001b[0;32mreturn\u001b[0m \u001b[0mx\u001b[0m \u001b[0;34m>=\u001b[0m \u001b[0;36m0\u001b[0m \u001b[0;32mand\u001b[0m \u001b[0mx\u001b[0m \u001b[0;34m<\u001b[0m \u001b[0mself\u001b[0m\u001b[0;34m.\u001b[0m\u001b[0mwidth\u001b[0m \u001b[0;32mand\u001b[0m \u001b[0my\u001b[0m \u001b[0;34m>=\u001b[0m \u001b[0;36m0\u001b[0m \u001b[0;32mand\u001b[0m \u001b[0my\u001b[0m \u001b[0;34m<\u001b[0m \u001b[0mself\u001b[0m\u001b[0;34m.\u001b[0m\u001b[0mheight\u001b[0m\u001b[0;34m\u001b[0m\u001b[0m\n\u001b[0m\u001b[1;32m     91\u001b[0m \u001b[0;34m\u001b[0m\u001b[0m\n\u001b[1;32m     92\u001b[0m     \u001b[0;32mdef\u001b[0m \u001b[0mGetResult\u001b[0m\u001b[0;34m(\u001b[0m\u001b[0mself\u001b[0m\u001b[0;34m,\u001b[0m \u001b[0mplayer\u001b[0m\u001b[0;34m)\u001b[0m\u001b[0;34m:\u001b[0m\u001b[0;34m\u001b[0m\u001b[0m\n",
      "\u001b[0;31mKeyboardInterrupt\u001b[0m: "
     ]
    }
   ],
   "source": [
    "initialState = Connect4State(width=7, height=6, connect=5)\n",
    "PlayGame(initialState)"
   ]
  },
  {
   "cell_type": "markdown",
   "metadata": {},
   "source": [
    "## Robustness to other games"
   ]
  },
  {
   "cell_type": "markdown",
   "metadata": {},
   "source": [
    "<img src=\"images/tic-tac-toe.png\" alt=\"drawing\" width=\"300\"/>"
   ]
  },
  {
   "cell_type": "markdown",
   "metadata": {},
   "source": [
    "Tic tac toe needs no introduction ;).\n",
    "\n",
    "Let's jump straight into the code."
   ]
  },
  {
   "cell_type": "code",
   "execution_count": 22,
   "metadata": {},
   "outputs": [],
   "source": [
    "class TicTacToeState(GameState):\n",
    "    \"\"\" A state of the game, i.e. the game board.\n",
    "        Squares in the board are in this arrangement\n",
    "        012\n",
    "        345\n",
    "        678\n",
    "        where 0 = empty, 1 = player 1 (X), 2 = player 2 (O)\n",
    "    \"\"\"\n",
    "\n",
    "    def __init__(self):\n",
    "        self.playerJustMoved = 2  # At the root pretend the player just moved is p2 - p1 has the first move\n",
    "        self.board = [0, 0, 0, 0, 0, 0, 0, 0, 0]  # 0 = empty, 1 = player 1, 2 = player 2\n",
    "\n",
    "    def Clone(self):\n",
    "        \"\"\" Create a deep clone of this game state.\n",
    "        \"\"\"\n",
    "        st = TicTacToeState()\n",
    "        st.playerJustMoved = self.playerJustMoved\n",
    "        st.board = self.board[:]\n",
    "        return st\n",
    "\n",
    "    def DoMove(self, move):\n",
    "        \"\"\" Update a state by carrying out the given move.\n",
    "            Must update playerToMove.\n",
    "        \"\"\"\n",
    "        assert move >= 0 and move <= 8 and move == int(move) and self.board[move] == 0\n",
    "        self.playerJustMoved = 3 - self.playerJustMoved\n",
    "        self.board[move] = self.playerJustMoved\n",
    "\n",
    "    def GetMoves(self):\n",
    "        \"\"\" Get all possible moves from this state.\n",
    "        \"\"\"\n",
    "        return [i for i in range(9) if self.board[i] == 0]\n",
    "\n",
    "    def GetResult(self, playerjm):\n",
    "        \"\"\" Get the game result from the viewpoint of playerjm for a finished game.\n",
    "        \"\"\"\n",
    "        for (x, y, z) in [(0, 1, 2), (3, 4, 5), (6, 7, 8), (0, 3, 6), (1, 4, 7), (2, 5, 8), (0, 4, 8), (2, 4, 6)]:\n",
    "            if self.board[x] == self.board[y] == self.board[z]:\n",
    "                if self.board[x] == playerjm:\n",
    "                    return 1.0\n",
    "                else:\n",
    "                    return 0.0\n",
    "        if self.GetMoves() == []: return 0.5  # draw\n",
    "        assert False  # Should not be possible to get here\n",
    "\n",
    "    def __repr__(self):\n",
    "        s = \"\"\n",
    "        for i in range(9):\n",
    "            s += [Fore.WHITE + '.', Fore.GREEN + 'X', Fore.BLUE + 'O'][self.board[i]]\n",
    "            s += Fore.RESET\n",
    "            if i % 3 == 2: s += \"\\n\"\n",
    "        return s"
   ]
  },
  {
   "cell_type": "code",
   "execution_count": 24,
   "metadata": {},
   "outputs": [
    {
     "name": "stdout",
     "output_type": "stream",
     "text": [
      "\u001b[37m.\u001b[39m\u001b[37m.\u001b[39m\u001b[37m.\u001b[39m\n",
      "\u001b[37m.\u001b[39m\u001b[37m.\u001b[39m\u001b[37m.\u001b[39m\n",
      "\u001b[37m.\u001b[39m\u001b[37m.\u001b[39m\u001b[37m.\u001b[39m\n",
      "\n",
      "\u001b[37m.\u001b[39m\u001b[37m.\u001b[39m\u001b[37m.\u001b[39m\n",
      "\u001b[37m.\u001b[39m\u001b[32mX\u001b[39m\u001b[37m.\u001b[39m\n",
      "\u001b[37m.\u001b[39m\u001b[37m.\u001b[39m\u001b[37m.\u001b[39m\n",
      "\n",
      "\u001b[34mO\u001b[39m\u001b[37m.\u001b[39m\u001b[37m.\u001b[39m\n",
      "\u001b[37m.\u001b[39m\u001b[32mX\u001b[39m\u001b[37m.\u001b[39m\n",
      "\u001b[37m.\u001b[39m\u001b[37m.\u001b[39m\u001b[37m.\u001b[39m\n",
      "\n",
      "\u001b[34mO\u001b[39m\u001b[37m.\u001b[39m\u001b[37m.\u001b[39m\n",
      "\u001b[32mX\u001b[39m\u001b[32mX\u001b[39m\u001b[37m.\u001b[39m\n",
      "\u001b[37m.\u001b[39m\u001b[37m.\u001b[39m\u001b[37m.\u001b[39m\n",
      "\n",
      "\u001b[34mO\u001b[39m\u001b[37m.\u001b[39m\u001b[37m.\u001b[39m\n",
      "\u001b[32mX\u001b[39m\u001b[32mX\u001b[39m\u001b[34mO\u001b[39m\n",
      "\u001b[37m.\u001b[39m\u001b[37m.\u001b[39m\u001b[37m.\u001b[39m\n",
      "\n",
      "\u001b[34mO\u001b[39m\u001b[37m.\u001b[39m\u001b[32mX\u001b[39m\n",
      "\u001b[32mX\u001b[39m\u001b[32mX\u001b[39m\u001b[34mO\u001b[39m\n",
      "\u001b[37m.\u001b[39m\u001b[37m.\u001b[39m\u001b[37m.\u001b[39m\n",
      "\n",
      "\u001b[34mO\u001b[39m\u001b[37m.\u001b[39m\u001b[32mX\u001b[39m\n",
      "\u001b[32mX\u001b[39m\u001b[32mX\u001b[39m\u001b[34mO\u001b[39m\n",
      "\u001b[34mO\u001b[39m\u001b[37m.\u001b[39m\u001b[37m.\u001b[39m\n",
      "\n",
      "\u001b[34mO\u001b[39m\u001b[32mX\u001b[39m\u001b[32mX\u001b[39m\n",
      "\u001b[32mX\u001b[39m\u001b[32mX\u001b[39m\u001b[34mO\u001b[39m\n",
      "\u001b[34mO\u001b[39m\u001b[37m.\u001b[39m\u001b[37m.\u001b[39m\n",
      "\n",
      "\u001b[34mO\u001b[39m\u001b[32mX\u001b[39m\u001b[32mX\u001b[39m\n",
      "\u001b[32mX\u001b[39m\u001b[32mX\u001b[39m\u001b[34mO\u001b[39m\n",
      "\u001b[34mO\u001b[39m\u001b[34mO\u001b[39m\u001b[37m.\u001b[39m\n",
      "\n",
      "Nobody wins!\n"
     ]
    }
   ],
   "source": [
    "initialState = TicTacToeState()\n",
    "PlayGame(initialState)"
   ]
  },
  {
   "cell_type": "markdown",
   "metadata": {},
   "source": [
    "The game ends in a draw everytime! Unsurprisingly, as Tic-tac-toe has been solved for many, many years. If both players play optimally, it leads to a draw. The takeaway is that even though MCTS takes only a few lines of code to write, it can *literally* play optimally for simple games, it reaches an expert level for games like Connect 4, and novice levels for much more complex games like Go. And this is only the vanilla version of MCTS! There are dozens of different variations that improve upon MCTS's *many* initial shortcomings.\n",
    "\n",
    "Some of these variations include:\n",
    "+ Tree reusage\n",
    "+ Loss avoidance\n",
    "+ Optimistic pruning\n",
    "+ Information sets for partially observable environments\n",
    "+ Limited depth rollouts with evaluation functions\n",
    "+ And many, many more.\n",
    "\n",
    "For a beautiful overview of all these and many other improvements over the vanilla MCTS, We will leave you with [A survey of Monte Carlo Tree Search methods](http://mcts.ai/pubs/mcts-survey-master.pdf)."
   ]
  }
 ],
 "metadata": {
  "kernelspec": {
   "display_name": "Python 3",
   "language": "python",
   "name": "python3"
  },
  "language_info": {
   "codemirror_mode": {
    "name": "ipython",
    "version": 3
   },
   "file_extension": ".py",
   "mimetype": "text/x-python",
   "name": "python",
   "nbconvert_exporter": "python",
   "pygments_lexer": "ipython3",
   "version": "3.6.2"
  }
 },
 "nbformat": 4,
 "nbformat_minor": 2
}
